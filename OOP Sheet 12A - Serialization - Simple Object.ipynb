{
 "cells": [
  {
   "cell_type": "markdown",
   "metadata": {},
   "source": [
    "# Serialization"
   ]
  },
  {
   "cell_type": "markdown",
   "metadata": {},
   "source": [
    "### Use Simple Object for serialization"
   ]
  },
  {
   "cell_type": "code",
   "execution_count": null,
   "metadata": {},
   "outputs": [],
   "source": [
    "simple_object = dict(int_list=[1, 2, 3],\n",
    "                         text='string',\n",
    "                       number=3.44,\n",
    "                      boolean=True,\n",
    "                         none=None)"
   ]
  },
  {
   "cell_type": "code",
   "execution_count": null,
   "metadata": {},
   "outputs": [],
   "source": [
    "print(simple_object)"
   ]
  },
  {
   "cell_type": "markdown",
   "metadata": {},
   "source": [
    "### Dump String using default protocol"
   ]
  },
  {
   "cell_type": "code",
   "execution_count": null,
   "metadata": {
    "scrolled": true
   },
   "outputs": [],
   "source": [
    "#import cPickle as pickle\n",
    "import pickle as pickle\n",
    " \n",
    "pickle.dumps(simple_object, protocol=pickle.DEFAULT_PROTOCOL)"
   ]
  },
  {
   "cell_type": "code",
   "execution_count": null,
   "metadata": {},
   "outputs": [],
   "source": [
    "serialize_data = pickle.dumps(simple_object)"
   ]
  },
  {
   "cell_type": "markdown",
   "metadata": {},
   "source": [
    "### Deserialize the data and Load String using default protocol"
   ]
  },
  {
   "cell_type": "code",
   "execution_count": null,
   "metadata": {},
   "outputs": [],
   "source": [
    "#import cPickle as pickle\n",
    "import pickle as pickle\n",
    " \n",
    "deserialize_data = pickle.loads(serialize_data)"
   ]
  },
  {
   "cell_type": "markdown",
   "metadata": {},
   "source": [
    "### Dump String using highest protocol"
   ]
  },
  {
   "cell_type": "code",
   "execution_count": null,
   "metadata": {},
   "outputs": [],
   "source": [
    "#import cPickle as pickle\n",
    "import pickle as pickle\n",
    "\n",
    "serialize_simple_object_data = pickle.dumps(simple_object, protocol=pickle.HIGHEST_PROTOCOL)"
   ]
  },
  {
   "cell_type": "code",
   "execution_count": null,
   "metadata": {},
   "outputs": [],
   "source": [
    "print(serialize_simple_object_data)"
   ]
  },
  {
   "cell_type": "markdown",
   "metadata": {},
   "source": [
    "###  Deserialize the data and Load String using highest protocol"
   ]
  },
  {
   "cell_type": "code",
   "execution_count": null,
   "metadata": {},
   "outputs": [],
   "source": [
    "#import cPickle as pickle\n",
    "import pickle as pickle\n",
    "\n",
    "# it automatically check which version of protocol used and than deserialize it according to that version number.\n",
    "\n",
    "pickle.loads(serialize_simple_object_data)"
   ]
  },
  {
   "cell_type": "markdown",
   "metadata": {},
   "source": [
    "# Byte Stream To File"
   ]
  },
  {
   "cell_type": "markdown",
   "metadata": {},
   "source": [
    "### Storing Byte Stream into file using Default Protocol"
   ]
  },
  {
   "cell_type": "code",
   "execution_count": null,
   "metadata": {},
   "outputs": [],
   "source": [
    "pickle.dump(simple_object, open('simple1.pkl', 'wb')) \n",
    "\n",
    "# No need to define as argument. \n",
    "# For simple_object default protocol uses 107 bytes"
   ]
  },
  {
   "cell_type": "markdown",
   "metadata": {},
   "source": [
    "### Storing Byte Stream into file using Highest Protocol"
   ]
  },
  {
   "cell_type": "code",
   "execution_count": null,
   "metadata": {},
   "outputs": [],
   "source": [
    "pickle.dump(simple_object, open('simple2.pkl', 'wb'), protocol=pickle.HIGHEST_PROTOCOL) \n",
    "\n",
    "# For simple_object highest protocol uses 90 bytes"
   ]
  },
  {
   "cell_type": "markdown",
   "metadata": {},
   "source": [
    "### How to use Pickle load() method"
   ]
  },
  {
   "cell_type": "code",
   "execution_count": 1,
   "metadata": {},
   "outputs": [
    {
     "ename": "FileNotFoundError",
     "evalue": "[Errno 2] No such file or directory: 'simple2.pkl'",
     "output_type": "error",
     "traceback": [
      "\u001b[1;31m---------------------------------------------------------------------------\u001b[0m",
      "\u001b[1;31mFileNotFoundError\u001b[0m                         Traceback (most recent call last)",
      "\u001b[1;32m<ipython-input-1-c0ee6be4c11a>\u001b[0m in \u001b[0;36m<module>\u001b[1;34m\u001b[0m\n\u001b[0;32m      1\u001b[0m \u001b[1;32mimport\u001b[0m \u001b[0mpickle\u001b[0m\u001b[1;33m\u001b[0m\u001b[1;33m\u001b[0m\u001b[0m\n\u001b[0;32m      2\u001b[0m \u001b[1;33m\u001b[0m\u001b[0m\n\u001b[1;32m----> 3\u001b[1;33m \u001b[0mf\u001b[0m \u001b[1;33m=\u001b[0m \u001b[0mopen\u001b[0m\u001b[1;33m(\u001b[0m\u001b[1;34m'simple2.pkl'\u001b[0m\u001b[1;33m,\u001b[0m \u001b[1;34m'rb'\u001b[0m\u001b[1;33m)\u001b[0m   \u001b[1;31m# can load any file simple1 or simple2 as both file contains same info only have protocol difference\u001b[0m\u001b[1;33m\u001b[0m\u001b[1;33m\u001b[0m\u001b[0m\n\u001b[0m\u001b[0;32m      4\u001b[0m \u001b[1;31m# The protocol version used is detected automatically, so we do not have to specify it.\u001b[0m\u001b[1;33m\u001b[0m\u001b[1;33m\u001b[0m\u001b[1;33m\u001b[0m\u001b[0m\n\u001b[0;32m      5\u001b[0m \u001b[1;33m\u001b[0m\u001b[0m\n",
      "\u001b[1;31mFileNotFoundError\u001b[0m: [Errno 2] No such file or directory: 'simple2.pkl'"
     ]
    }
   ],
   "source": [
    "import pickle\n",
    "\n",
    "f = open('simple2.pkl', 'rb')   # can load any file simple1 or simple2 as both file contains same info only have protocol difference\n",
    "# The protocol version used is detected automatically, so we do not have to specify it.\n",
    "\n",
    "data = pickle.load(f)"
   ]
  },
  {
   "cell_type": "code",
   "execution_count": null,
   "metadata": {},
   "outputs": [],
   "source": [
    "print(data)"
   ]
  },
  {
   "cell_type": "markdown",
   "metadata": {},
   "source": [
    "## Example 2"
   ]
  },
  {
   "cell_type": "code",
   "execution_count": 1,
   "metadata": {},
   "outputs": [
    {
     "name": "stdout",
     "output_type": "stream",
     "text": [
      "b'\\x80\\x03}q\\x00(X\\x08\\x00\\x00\\x00Student1q\\x01K[X\\x08\\x00\\x00\\x00Student2q\\x02KTX\\x08\\x00\\x00\\x00Student3q\\x03KYu.'\n"
     ]
    }
   ],
   "source": [
    "import pickle\n",
    "\n",
    "#Here's an example dict\n",
    "student_grades = { 'Student1': 91, 'Student2': 84, 'Student3': 89 }\n",
    "\n",
    "#Use dumps to convert the object to a serialized string\n",
    "serial_grades = pickle.dumps(student_grades)\n",
    "print(serial_grades)"
   ]
  },
  {
   "cell_type": "code",
   "execution_count": 2,
   "metadata": {},
   "outputs": [
    {
     "name": "stdout",
     "output_type": "stream",
     "text": [
      "{'Student1': 91, 'Student2': 84, 'Student3': 89}\n"
     ]
    }
   ],
   "source": [
    "#Use loads to de-serialize an object\n",
    "received_grades = pickle.loads( serial_grades )\n",
    "print(received_grades)"
   ]
  },
  {
   "cell_type": "markdown",
   "metadata": {},
   "source": [
    "## Example 3"
   ]
  },
  {
   "cell_type": "code",
   "execution_count": 2,
   "metadata": {},
   "outputs": [],
   "source": [
    "import pickle\n",
    "f = open(\"data1.txt\",\"wb\")\n",
    "dct = {\"name\":\"Student1\", \"age\":23, \"Gender\":\"M\",\"marks\":92}\n",
    "pickle.dump(dct,f)\n",
    "f.close()"
   ]
  },
  {
   "cell_type": "code",
   "execution_count": 3,
   "metadata": {},
   "outputs": [
    {
     "name": "stdout",
     "output_type": "stream",
     "text": [
      "{'name': 'Student1', 'age': 23, 'Gender': 'M', 'marks': 92}\n"
     ]
    }
   ],
   "source": [
    "f = open(\"data1.txt\",\"rb\")\n",
    "datatemp = pickle.load(f)\n",
    "print(datatemp)\n",
    "f.close()"
   ]
  }
 ],
 "metadata": {
  "kernelspec": {
   "display_name": "Python 3",
   "language": "python",
   "name": "python3"
  },
  "language_info": {
   "codemirror_mode": {
    "name": "ipython",
    "version": 3
   },
   "file_extension": ".py",
   "mimetype": "text/x-python",
   "name": "python",
   "nbconvert_exporter": "python",
   "pygments_lexer": "ipython3",
   "version": "3.7.3"
  }
 },
 "nbformat": 4,
 "nbformat_minor": 4
}
