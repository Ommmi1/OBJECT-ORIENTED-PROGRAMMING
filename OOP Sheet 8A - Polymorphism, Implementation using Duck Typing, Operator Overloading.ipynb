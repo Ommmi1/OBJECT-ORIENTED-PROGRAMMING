{
 "cells": [
  {
   "cell_type": "markdown",
   "metadata": {},
   "source": [
    "# Chapter 3:"
   ]
  },
  {
   "cell_type": "markdown",
   "metadata": {},
   "source": [
    "# Polymorphism"
   ]
  },
  {
   "cell_type": "markdown",
   "metadata": {},
   "source": [
    "Polymorphism in python defines methods in the child class that have the same name as the methods in the parent class. In inheritance, the child class inherits the methods from the parent class. Also, it is possible to modify a method in a child class that it has inherited from the parent class.\n",
    "\n",
    "    Poly  = Many        \n",
    "    Morph = Forms"
   ]
  },
  {
   "cell_type": "markdown",
   "metadata": {},
   "source": [
    "Implementation of Polymorphism by using following ways\n",
    "1. Duck Typing\n",
    "2. Operator Overloading\n",
    "3. Method Overloading\n",
    "4. Method Overriding"
   ]
  },
  {
   "cell_type": "markdown",
   "metadata": {},
   "source": [
    "## Duck Typing (Polymorphism)"
   ]
  },
  {
   "cell_type": "code",
   "execution_count": 1,
   "metadata": {},
   "outputs": [],
   "source": [
    "class Editor:\n",
    "    def execute(self):\n",
    "        print(\"Going to Compile this code\")\n",
    "        print(\"Running the code\")\n",
    "            \n",
    "class Student:\n",
    "    def process(self, ide):\n",
    "        ide.execute()\n",
    "        "
   ]
  },
  {
   "cell_type": "code",
   "execution_count": null,
   "metadata": {},
   "outputs": [],
   "source": [
    "st1 = Student()\n",
    "\n",
    "ide = Editor()\n",
    "\n",
    "st1.process(ide)"
   ]
  },
  {
   "cell_type": "code",
   "execution_count": null,
   "metadata": {},
   "outputs": [],
   "source": [
    "ob_ide = Editor()\n",
    "\n",
    "st1 = Student()\n",
    "st1.process(ob_ide)"
   ]
  },
  {
   "cell_type": "code",
   "execution_count": null,
   "metadata": {},
   "outputs": [],
   "source": [
    "class Editor1:\n",
    "    def execute(self):\n",
    "        print(\"Going to Compile this code\")\n",
    "        print(\"Running the code\")\n",
    "               \n",
    "class Editor2:\n",
    "    def execute(self):\n",
    "        print(\"First Spell Check\")\n",
    "        print(\"Going to Compile this code\")\n",
    "        print(\"Running the code\") \n",
    "        \n",
    "class Student:\n",
    "    def process(self, ide):\n",
    "        ide.execute()\n",
    "        "
   ]
  },
  {
   "cell_type": "code",
   "execution_count": null,
   "metadata": {
    "scrolled": true
   },
   "outputs": [],
   "source": [
    "st2 = Student()\n",
    "st2.process(Editor1())"
   ]
  },
  {
   "cell_type": "code",
   "execution_count": null,
   "metadata": {},
   "outputs": [],
   "source": [
    "st2.process(Editor2())"
   ]
  },
  {
   "cell_type": "markdown",
   "metadata": {},
   "source": [
    "#### we only change ob_ide = Editor2() and we get the properties of new Editor2"
   ]
  },
  {
   "cell_type": "code",
   "execution_count": null,
   "metadata": {},
   "outputs": [],
   "source": [
    "ob_ide = Editor2()\n",
    "st2 = Student()\n",
    "st2.process(ob_ide)"
   ]
  },
  {
   "cell_type": "code",
   "execution_count": null,
   "metadata": {},
   "outputs": [],
   "source": []
  },
  {
   "cell_type": "markdown",
   "metadata": {},
   "source": [
    "## Operator Overloading (Polymorphism)"
   ]
  },
  {
   "cell_type": "code",
   "execution_count": null,
   "metadata": {},
   "outputs": [],
   "source": [
    "x = 1\n",
    "y = 2\n",
    "print(x+y)"
   ]
  },
  {
   "cell_type": "raw",
   "metadata": {},
   "source": [
    "# Actually this is what happening in the background.\n",
    "# as x and y are int and we are using + operator.\n",
    "# therefore int.__add__ is get called to perform addition"
   ]
  },
  {
   "cell_type": "code",
   "execution_count": null,
   "metadata": {},
   "outputs": [],
   "source": [
    "x = 11\n",
    "y = 2\n",
    "print(int.__add__(x,y))"
   ]
  },
  {
   "cell_type": "code",
   "execution_count": null,
   "metadata": {},
   "outputs": [],
   "source": [
    "# For String the + operator will concatenate the numbers"
   ]
  },
  {
   "cell_type": "code",
   "execution_count": null,
   "metadata": {},
   "outputs": [],
   "source": [
    "x = \"1\"\n",
    "y = \"2\"\n",
    "print(x+y)"
   ]
  },
  {
   "cell_type": "code",
   "execution_count": null,
   "metadata": {},
   "outputs": [],
   "source": [
    "x = \"A1\"\n",
    "y = \"A2\"\n",
    "print(str.__add__(x,y))"
   ]
  },
  {
   "cell_type": "markdown",
   "metadata": {},
   "source": [
    "#### Now for Operator Overloading"
   ]
  },
  {
   "cell_type": "code",
   "execution_count": null,
   "metadata": {},
   "outputs": [],
   "source": [
    "class Student:\n",
    "    def __init__(self, marks):\n",
    "        self.marks1 = marks\n",
    "        \n",
    "st1 = Student(12)\n",
    "st2 = Student(19)\n",
    "\n"
   ]
  },
  {
   "cell_type": "code",
   "execution_count": null,
   "metadata": {},
   "outputs": [],
   "source": [
    "st3 =(st1+st2)"
   ]
  },
  {
   "cell_type": "code",
   "execution_count": null,
   "metadata": {},
   "outputs": [],
   "source": [
    "class Student:\n",
    "    def __init__(self, marks1, marks2):\n",
    "        self.marks1 = marks1\n",
    "        self.marks2 = marks2"
   ]
  },
  {
   "cell_type": "code",
   "execution_count": null,
   "metadata": {},
   "outputs": [],
   "source": [
    "st1 = Student(45, 59)\n",
    "st2 = Student(89, 90)"
   ]
  },
  {
   "cell_type": "code",
   "execution_count": null,
   "metadata": {},
   "outputs": [],
   "source": [
    "st3 = st1 + st2"
   ]
  },
  {
   "cell_type": "markdown",
   "metadata": {},
   "source": [
    "##### it can be seen that operand type is unsupported, as it can not add two Student objects\n",
    "Now, if we include our own method for addition, see what happened...."
   ]
  },
  {
   "cell_type": "code",
   "execution_count": null,
   "metadata": {},
   "outputs": [],
   "source": [
    "class Student:\n",
    "    def __init__(self, marks1, marks2):\n",
    "        self.marks1 = marks1\n",
    "        self.marks2 = marks2 \n",
    "        \n",
    "    def __add__(self, ot):\n",
    "        totalmarks1 = self.marks1 - ot.marks1\n",
    "        totalmarks2 = self.marks2 - ot.marks2\n",
    "        st3 = Student(totalmarks1, totalmarks2)\n",
    "        return st3"
   ]
  },
  {
   "cell_type": "code",
   "execution_count": null,
   "metadata": {},
   "outputs": [],
   "source": [
    "st1 = Student(45, 59)\n",
    "st2 = Student(89, 90)"
   ]
  },
  {
   "cell_type": "code",
   "execution_count": null,
   "metadata": {},
   "outputs": [],
   "source": [
    "st3 = st1 + st2"
   ]
  },
  {
   "cell_type": "code",
   "execution_count": null,
   "metadata": {},
   "outputs": [],
   "source": [
    "print(st3.marks1)\n",
    "print(st3.marks2)"
   ]
  },
  {
   "cell_type": "markdown",
   "metadata": {},
   "source": [
    "## Task 1\n",
    "#### Overload an   -   (subract) operator\n",
    "\n",
    "## Task 2\n",
    "#### Overload an   >   (greater then) operator __gt__\n",
    "\n",
    "## Task 3\n",
    "#### Overload an   <   (less than) operator"
   ]
  }
 ],
 "metadata": {
  "kernelspec": {
   "display_name": "Python 3",
   "language": "python",
   "name": "python3"
  },
  "language_info": {
   "codemirror_mode": {
    "name": "ipython",
    "version": 3
   },
   "file_extension": ".py",
   "mimetype": "text/x-python",
   "name": "python",
   "nbconvert_exporter": "python",
   "pygments_lexer": "ipython3",
   "version": "3.7.3"
  }
 },
 "nbformat": 4,
 "nbformat_minor": 4
}
