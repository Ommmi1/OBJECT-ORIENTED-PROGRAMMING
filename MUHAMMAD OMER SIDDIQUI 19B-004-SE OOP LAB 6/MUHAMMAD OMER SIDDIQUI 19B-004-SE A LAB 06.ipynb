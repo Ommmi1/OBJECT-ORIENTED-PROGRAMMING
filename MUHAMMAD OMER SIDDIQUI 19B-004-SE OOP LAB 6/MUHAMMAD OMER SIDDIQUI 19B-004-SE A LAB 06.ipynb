{
 "cells": [
  {
   "cell_type": "code",
   "execution_count": 15,
   "metadata": {},
   "outputs": [
    {
     "name": "stdout",
     "output_type": "stream",
     "text": [
      "Name: Omer\n",
      "Nationality: Pakistani\n",
      "Age: 19\n",
      "Salary: 25000\n",
      "CNIC: 234383\n",
      "Loan:  20000\n",
      "Record: not clear\n",
      "Status for an application of loan: not agreed\n",
      "\n",
      "\n",
      "Name: ismail\n",
      "Nationality: Pakistani\n",
      "Age: 19\n",
      "salary:  50000\n",
      "CNIC: 9473929\n",
      "Loan: 5000\n",
      "Record: clear\n",
      "Status for an application of loan: agreed\n"
     ]
    }
   ],
   "source": [
    "class Car_Loan_Management:\n",
    "    def __init__(self,name,nationality,record,age,salary,status):\n",
    "        self.name = name\n",
    "        self.nationality = nationality\n",
    "        self.age = age\n",
    "        self.salary = salary\n",
    "        self.record=record\n",
    "        self.status=status\n",
    "class customer(Car_Loan_Management):\n",
    "    def __init__(self,name,nationality,record,age,salary,NIC_number,Loan,status):\n",
    "        self.NIC_number = NIC_number\n",
    "        self.Loan = Loan\n",
    "        Car_Loan_Management.__init__(self,name,nationality,record,age,salary,status)\n",
    "        \n",
    "    def description_of_customer(self):\n",
    "        print(\"Name: \"+self.name+\"\\nNationality: \"+self.nationality+\"\\nAge: \"+self.age+\"\\nSalary: \"+self.salary+\"\\nCNIC: \"+self.NIC_number+\"\\nLoan:  \"+self.Loan+\"\\nRecord: \"+self.record+\"\\nStatus for an application of loan: \"+self.status)\n",
    "class Customer(Car_Loan_Management):\n",
    "    def __init__(self,name,nationality,record,age,salary,NIC_number,Loan,status):\n",
    "        self.NIC_number = NIC_number\n",
    "        self.Loan = Loan\n",
    "        Car_Loan_Management.__init__(self,name,nationality,record,age,salary,status)\n",
    "    def Description_of_customer(self):\n",
    "        print(\"\\n\\nName: \"+self.name+\"\\nNationality: \"+self.nationality+\"\\nAge: \"+self.age+\"\\nsalary:  \"+self.salary+\"\\nCNIC: \"+self.NIC_number+\"\\nLoan: \"+self.Loan+\"\\nRecord: \"+self.record+\"\\nStatus for an application of loan: \"+self.status)\n",
    "        \n",
    "obj1 = customer(\"Omer\",\"Pakistani\",\"not clear\",\"19\",\"25000\",\"234383\",\"20000\",\"not agreed\")\n",
    "obj2 = Customer(\"ismail\",\"Pakistani\",\"clear\",\"19\",\"50000\",\"9473929\",\"5000\",\"agreed\")\n",
    "obj1.description_of_customer()\n",
    "obj2.Description_of_customer()"
   ]
  },
  {
   "cell_type": "code",
   "execution_count": 22,
   "metadata": {},
   "outputs": [
    {
     "name": "stdout",
     "output_type": "stream",
     "text": [
      "Name: Omer\n",
      "Age: 19\n",
      "Transaction: 2500\n",
      "Billing: 50000\n",
      " status:agreed\n"
     ]
    }
   ],
   "source": [
    "class Cargo_Management_System:\n",
    "    def __init__(self,transaction,billing,status):\n",
    "        self.transaction = transaction\n",
    "        self.billing = billing\n",
    "        self.status=status\n",
    "class Person(Cargo_Management_System):\n",
    "    def __init__(self,transaction,billing,status,name,age):\n",
    "        self.name = name\n",
    "        self.age = age\n",
    "        Cargo_Management_System.__init__(self,transaction,billing,status)\n",
    "    def description(self):\n",
    "        print(\"Name: \"+self.name+\"\\nAge: \"+self.age+\"\\nTransaction: \"+self.transaction+\"\\nBilling: \"+self.billing+\"\\n status:\"+self.status)\n",
    "obj = Person(\"2500\",\"50000\",\"agreed\",\"Omer\",\"19\")\n",
    "obj.description()"
   ]
  }
 ],
 "metadata": {
  "kernelspec": {
   "display_name": "Python 3",
   "language": "python",
   "name": "python3"
  },
  "language_info": {
   "codemirror_mode": {
    "name": "ipython",
    "version": 3
   },
   "file_extension": ".py",
   "mimetype": "text/x-python",
   "name": "python",
   "nbconvert_exporter": "python",
   "pygments_lexer": "ipython3",
   "version": "3.7.3"
  }
 },
 "nbformat": 4,
 "nbformat_minor": 2
}
