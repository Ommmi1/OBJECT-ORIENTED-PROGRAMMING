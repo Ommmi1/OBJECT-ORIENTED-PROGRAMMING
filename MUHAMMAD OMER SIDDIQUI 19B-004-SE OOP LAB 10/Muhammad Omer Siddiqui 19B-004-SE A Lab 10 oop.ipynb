{
 "cells": [
  {
   "cell_type": "markdown",
   "metadata": {},
   "source": [
    "# LAB TASKS\n",
    "# Exercise 1: "
   ]
  },
  {
   "cell_type": "code",
   "execution_count": 1,
   "metadata": {},
   "outputs": [
    {
     "name": "stdout",
     "output_type": "stream",
     "text": [
      "Network is connect\n",
      "All Data is tranfser\n"
     ]
    }
   ],
   "source": [
    "from abc import ABC, abstractmethod\n",
    "class NetworkInterface(ABC):\n",
    "    @abstractmethod\n",
    "    def connect(self):\n",
    "        pass\n",
    "    @abstractmethod\n",
    "    def transfer(self):\n",
    "        pass\n",
    "class RealNetwork(NetworkInterface):\n",
    "    def connect(self):\n",
    "        print(\"Network is connect\")\n",
    "    def transfer(self):\n",
    "        print(\"All Data is tranfser\")\n",
    "R1= RealNetwork()\n",
    "R1.connect()\n",
    "R1.transfer()"
   ]
  },
  {
   "cell_type": "markdown",
   "metadata": {},
   "source": [
    "# Exercise 2:"
   ]
  },
  {
   "cell_type": "code",
   "execution_count": 11,
   "metadata": {},
   "outputs": [
    {
     "name": "stdout",
     "output_type": "stream",
     "text": [
      "Network is connect\n",
      "All Data is tranfser\n"
     ]
    },
    {
     "ename": "TypeError",
     "evalue": "Can't instantiate abstract class FakeNetwork with abstract methods transfer",
     "output_type": "error",
     "traceback": [
      "\u001b[1;31m---------------------------------------------------------------------------\u001b[0m",
      "\u001b[1;31mTypeError\u001b[0m                                 Traceback (most recent call last)",
      "\u001b[1;32m<ipython-input-11-a1e1b85962ee>\u001b[0m in \u001b[0;36m<module>\u001b[1;34m\u001b[0m\n\u001b[0;32m     18\u001b[0m \u001b[0mR1\u001b[0m\u001b[1;33m.\u001b[0m\u001b[0mconnect\u001b[0m\u001b[1;33m(\u001b[0m\u001b[1;33m)\u001b[0m\u001b[1;33m\u001b[0m\u001b[1;33m\u001b[0m\u001b[0m\n\u001b[0;32m     19\u001b[0m \u001b[0mR1\u001b[0m\u001b[1;33m.\u001b[0m\u001b[0mtransfer\u001b[0m\u001b[1;33m(\u001b[0m\u001b[1;33m)\u001b[0m\u001b[1;33m\u001b[0m\u001b[1;33m\u001b[0m\u001b[0m\n\u001b[1;32m---> 20\u001b[1;33m \u001b[0mF1\u001b[0m\u001b[1;33m=\u001b[0m \u001b[0mFakeNetwork\u001b[0m\u001b[1;33m(\u001b[0m\u001b[1;33m)\u001b[0m\u001b[1;33m\u001b[0m\u001b[1;33m\u001b[0m\u001b[0m\n\u001b[0m\u001b[0;32m     21\u001b[0m \u001b[0mF1\u001b[0m\u001b[1;33m.\u001b[0m\u001b[0mconnect\u001b[0m\u001b[1;33m(\u001b[0m\u001b[1;33m)\u001b[0m\u001b[1;33m\u001b[0m\u001b[1;33m\u001b[0m\u001b[0m\n",
      "\u001b[1;31mTypeError\u001b[0m: Can't instantiate abstract class FakeNetwork with abstract methods transfer"
     ]
    }
   ],
   "source": [
    "from abc import ABC, abstractmethod\n",
    "class NetworkInterface(ABC):\n",
    "    @abstractmethod\n",
    "    def connect(self):\n",
    "        pass\n",
    "    @abstractmethod\n",
    "    def transfer(self):\n",
    "        pass\n",
    "class RealNetwork(NetworkInterface):\n",
    "    def connect(self):\n",
    "        print(\"Network is connect\")\n",
    "    def transfer(self):\n",
    "        print(\"All Data is tranfser\")\n",
    "class FakeNetwork(NetworkInterface):\n",
    "    def connect(self):\n",
    "        print(\"Network is connect\")\n",
    "R1= RealNetwork()\n",
    "R1.connect()\n",
    "R1.transfer()\n",
    "F1= FakeNetwork()\n",
    "F1.connect()"
   ]
  },
  {
   "cell_type": "markdown",
   "metadata": {},
   "source": [
    "# Exercise 3:"
   ]
  },
  {
   "cell_type": "code",
   "execution_count": 6,
   "metadata": {},
   "outputs": [
    {
     "name": "stdout",
     "output_type": "stream",
     "text": [
      "sum =  (8, 8)\n"
     ]
    }
   ],
   "source": [
    "class A:\n",
    "    def __init__(self, x,y):\n",
    "        self.x = x\n",
    "        self.y = y\n",
    "    def __add__(self, other):\n",
    "        x = self.x + other.y\n",
    "        y = self.x + other.y\n",
    "        return( x,y)\n",
    "c1 = A(5,3)\n",
    "c2 = A(2,3)\n",
    "print(\"sum = \",c1+c2)"
   ]
  },
  {
   "cell_type": "markdown",
   "metadata": {},
   "source": [
    "# Exercise 4:"
   ]
  },
  {
   "cell_type": "code",
   "execution_count": 8,
   "metadata": {},
   "outputs": [
    {
     "name": "stdout",
     "output_type": "stream",
     "text": [
      "Is c1 less than c2:  False\n"
     ]
    }
   ],
   "source": [
    "class A:\n",
    "    def __init__(self, x):\n",
    "        self.x = x\n",
    "\n",
    "    def __lt__(self, other):\n",
    "        if self.x < other.y:\n",
    "            return True\n",
    "        else:\n",
    "            return False\n",
    "\n",
    "class B:\n",
    "    def __init__(self, y):\n",
    "        self.y = y\n",
    "\n",
    "c1 = A(90)\n",
    "c2 = B(56)\n",
    "print(\"Is c1 less than c2: \",c1<c2)"
   ]
  },
  {
   "cell_type": "markdown",
   "metadata": {},
   "source": [
    "# Exercise 5:"
   ]
  },
  {
   "cell_type": "code",
   "execution_count": 10,
   "metadata": {},
   "outputs": [
    {
     "name": "stdout",
     "output_type": "stream",
     "text": [
      "ob2 is less than ob1\n",
      "Not equal\n"
     ]
    }
   ],
   "source": [
    "class A:\n",
    "    def __init__(self, a):\n",
    "        self.a = a\n",
    "    def __lt__(self, other):\n",
    "        if(self.a<other.a):\n",
    "            return \"ob1 is less than ob2\"\n",
    "        else:\n",
    "            return \"ob2 is less than ob1\"\n",
    "    def __eq__(self, other):\n",
    "        if(self.a == other.a):\n",
    "            return \"Both are equal\"\n",
    "        else:\n",
    "            return \"Not equal\"\n",
    "ob1 = A(6)\n",
    "ob2 = A(5)\n",
    "print(ob1 < ob2)\n",
    "\n",
    "ob3 = A(86)\n",
    "ob4 = A(9)\n",
    "print(ob3 == ob4)"
   ]
  },
  {
   "cell_type": "markdown",
   "metadata": {},
   "source": [
    "# Programming Exercise "
   ]
  },
  {
   "cell_type": "markdown",
   "metadata": {},
   "source": [
    "# Task 1: Create a class Point having X and Y axis then perform an operator overloading\n",
    "# (Overload all relation operator)."
   ]
  },
  {
   "cell_type": "code",
   "execution_count": 41,
   "metadata": {},
   "outputs": [
    {
     "name": "stdout",
     "output_type": "stream",
     "text": [
      "Is c1 greater than c2:  True\n",
      "Is c1 greater or equal to c2:  True\n",
      "Is c1 less than or equal to c2:  False\n",
      "Is c1 less than c2:  True\n",
      "Is c1 equal to c2:  False\n",
      "Is c1 not equal to c2:  True\n"
     ]
    }
   ],
   "source": [
    "class Point:\n",
    "    def __init__(self, x,y):\n",
    "        self.x = x\n",
    "        self.y=y\n",
    "    def __lt__(self, other):\n",
    "        if self.x > other.x:\n",
    "            return True\n",
    "            if self.y > other.y:\n",
    "                return True\n",
    "            else:\n",
    "                return False\n",
    "        else:\n",
    "            return False\n",
    "\n",
    "    def __gt__(self, other):\n",
    "        if self.x > other.x:\n",
    "            return True\n",
    "            if self.y > other.y:\n",
    "                return True\n",
    "            else:\n",
    "                return False\n",
    "        else:\n",
    "            return False\n",
    "    def __ge__(self, other):\n",
    "        if self.x >= other.x:\n",
    "            return True\n",
    "            if self.y > other.y:\n",
    "                return True\n",
    "            else:\n",
    "                return False\n",
    "        else:\n",
    "            return False\n",
    "    def __le__(self, other):\n",
    "        if self.x <= other.x:\n",
    "            return True\n",
    "            if self.y > other.y:\n",
    "                return True\n",
    "            else:\n",
    "                return False\n",
    "        else:\n",
    "            return False\n",
    "    def __eq__(self, other):\n",
    "        if self.x == other.x:\n",
    "            return True\n",
    "            if self.y > other.y:\n",
    "                return True\n",
    "            else:\n",
    "                return False\n",
    "        else:\n",
    "            return False\n",
    "    def __ne__(self, other):\n",
    "        if self.x != other.x:\n",
    "            return True\n",
    "            if self.y > other.y:\n",
    "                return True\n",
    "            else:\n",
    "                return False\n",
    "        else:\n",
    "            return False\n",
    "c1 = Point(90,40)\n",
    "c2 = Point(56,9)\n",
    "print(\"Is c1 greater than c2: \",c1 > c2)\n",
    "print(\"Is c1 greater or equal to c2: \",c1 >= c2)\n",
    "print(\"Is c1 less than or equal to c2: \",c1 <= c2)\n",
    "print(\"Is c1 less than c2: \",c1 < c2)\n",
    "print(\"Is c1 equal to c2: \",c1 == c2)\n",
    "print(\"Is c1 not equal to c2: \",c1 != c2)"
   ]
  },
  {
   "cell_type": "markdown",
   "metadata": {},
   "source": [
    "# Task 2:\n",
    "# Find out one real world example of interface and implement all abstract method by using python code.\n"
   ]
  },
  {
   "cell_type": "code",
   "execution_count": 44,
   "metadata": {},
   "outputs": [
    {
     "name": "stdout",
     "output_type": "stream",
     "text": [
      "Credit card payment of  100\n",
      "Purchase of amount  100\n",
      "Mobile wallet payment of  200\n",
      "Purchase of amount  200\n"
     ]
    }
   ],
   "source": [
    "from abc import ABC, abstractmethod\n",
    "class Payment(ABC):\n",
    "    def print_slip(self, amount):\n",
    "        print('Purchase of amount ', amount)\n",
    "    @abstractmethod\n",
    "    def payment(self, amount):\n",
    "        pass\n",
    "\n",
    "class CreditCardPayment(Payment):\n",
    "    def payment(self, amount):\n",
    "        print('Credit card payment of ', amount)\n",
    "\n",
    "class MobileWalletPayment(Payment):\n",
    "    def payment(self, amount):\n",
    "        print('Mobile wallet payment of ', amount)\n",
    "\n",
    "obj = CreditCardPayment()\n",
    "obj.payment(100)\n",
    "obj.print_slip(100)\n",
    "obj = MobileWalletPayment()\n",
    "obj.payment(200)\n",
    "obj.print_slip(200)"
   ]
  }
 ],
 "metadata": {
  "kernelspec": {
   "display_name": "Python 3",
   "language": "python",
   "name": "python3"
  },
  "language_info": {
   "codemirror_mode": {
    "name": "ipython",
    "version": 3
   },
   "file_extension": ".py",
   "mimetype": "text/x-python",
   "name": "python",
   "nbconvert_exporter": "python",
   "pygments_lexer": "ipython3",
   "version": "3.7.3"
  }
 },
 "nbformat": 4,
 "nbformat_minor": 2
}
