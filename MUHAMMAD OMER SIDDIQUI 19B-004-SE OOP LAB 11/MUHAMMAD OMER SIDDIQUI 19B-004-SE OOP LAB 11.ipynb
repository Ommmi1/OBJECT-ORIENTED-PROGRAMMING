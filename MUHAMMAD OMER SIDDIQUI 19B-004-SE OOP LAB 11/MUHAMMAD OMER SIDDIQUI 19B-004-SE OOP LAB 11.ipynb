{
 "cells": [
  {
   "cell_type": "code",
   "execution_count": 2,
   "metadata": {},
   "outputs": [
    {
     "name": "stdout",
     "output_type": "stream",
     "text": [
      "pattern found inside the string\n"
     ]
    }
   ],
   "source": [
    "import re\n",
    "string = \"Python is fun\"\n",
    "# check if 'Python' is at the beginning\n",
    "match = re.search('^Python', string)\n",
    "if match:\n",
    "    print(\"pattern found inside the string\")\n",
    "else:\n",
    "    print(\"pattern not found\")"
   ]
  },
  {
   "cell_type": "code",
   "execution_count": 3,
   "metadata": {},
   "outputs": [
    {
     "name": "stdout",
     "output_type": "stream",
     "text": [
      "['Sp']\n"
     ]
    }
   ],
   "source": [
    "import re\n",
    "str = \" The rain in Spain\"\n",
    "x = re.findall(\"Sp\", str)\n",
    "print(x)"
   ]
  },
  {
   "cell_type": "code",
   "execution_count": 4,
   "metadata": {},
   "outputs": [
    {
     "name": "stdout",
     "output_type": "stream",
     "text": [
      "['12', '89', '34']\n"
     ]
    }
   ],
   "source": [
    "import re\n",
    "string = 'hello 12 hi 89. Howdy 34'\n",
    "pattern = '\\d+'\n",
    "result = re.findall(pattern, string)\n",
    "print(result)"
   ]
  },
  {
   "cell_type": "code",
   "execution_count": 5,
   "metadata": {},
   "outputs": [
    {
     "name": "stdout",
     "output_type": "stream",
     "text": [
      "['Twelve:', ' Eighty nine:', '.']\n"
     ]
    }
   ],
   "source": [
    "import re\n",
    "string = 'Twelve:12 Eighty nine:89.'\n",
    "pattern = '\\d+'\n",
    "result = re.split(pattern, string)\n",
    "print(result)"
   ]
  },
  {
   "cell_type": "code",
   "execution_count": 8,
   "metadata": {},
   "outputs": [
    {
     "name": "stdout",
     "output_type": "stream",
     "text": [
      "abc12\\de23f456\n"
     ]
    }
   ],
   "source": [
    "import re\n",
    "# multiline string\n",
    "string = 'abc 12\\de 23 \\n f45 6'\n",
    "# matches all whitespace characters\n",
    "pattern = '\\s+'\n",
    "# empty string\n",
    "replace = ''\n",
    "new_string = re.sub(pattern, replace, string)\n",
    "print(new_string)"
   ]
  },
  {
   "cell_type": "code",
   "execution_count": 23,
   "metadata": {
    "scrolled": true
   },
   "outputs": [
    {
     "name": "stdout",
     "output_type": "stream",
     "text": [
      "Mobile Number's   Network      Count\n",
      "____________________________________\n",
      "03323033998       UFONE         1\n",
      "03152487323       ZONG          1\n",
      "03164873734       ZONG          2\n",
      "03002487123       JAZZ          1\n",
      "03332487423       UFONE         2\n",
      "03482487321       TELENOR       1\n",
      "03002457223       JAZZ          2\n",
      "03202487623       WARID         1\n",
      "03472487323       TELENOR       2\n",
      "03332557323       UFONE         3\n",
      "03162487329       ZONG          3\n",
      "____________________________________ \n",
      "\n",
      "The total will be\n",
      "____________________\n",
      "Telenor Users   = 2\n",
      "Ufone Users     = 3\n",
      "Warid Users     = 1\n",
      "Jazz Users      = 2\n",
      "Zong Users      = 3\n",
      "Total Users     = 11\n",
      "____________________\n"
     ]
    }
   ],
   "source": [
    "#TAsk 1\n",
    "import re\n",
    "\n",
    "infile = open(\"Networks.txt\",\"r\")\n",
    "numbers = infile.read()\n",
    "infile.close()\n",
    "outfile = numbers.split()\n",
    "\n",
    "print(\"Mobile Number's   Network      Count\")\n",
    "print(36 * \"_\")\n",
    "\n",
    "total = 0\n",
    "telenor_count = 0\n",
    "warid_count = 0\n",
    "ufone_count = 0\n",
    "jazz_count = 0\n",
    "zong_count = 0\n",
    "\n",
    "for i in outfile:\n",
    "    #print(i)\n",
    "    telenor = re.findall('^034........',i)\n",
    "    if i in telenor:\n",
    "        telenor_count += 1\n",
    "        total +=1 \n",
    "        print(i,\"      TELENOR      \",telenor_count)\n",
    "   \n",
    "    ufone = re.findall('^033........',i)\n",
    "    #print(ufone)\n",
    "    if i in ufone:\n",
    "        ufone_count += 1\n",
    "        total +=1\n",
    "        print(i,\"      UFONE        \",ufone_count)\n",
    "   \n",
    "       \n",
    "    warid = re.findall('^032........',i)\n",
    "    if i in warid:\n",
    "        warid_count += 1\n",
    "        total +=1\n",
    "        print(i,\"      WARID        \",warid_count)\n",
    "        \n",
    "    jazz = re.findall('^030........',i)\n",
    "    if i in jazz:\n",
    "        jazz_count += 1\n",
    "        total +=1\n",
    "        print(i,\"      JAZZ         \",jazz_count)\n",
    "       \n",
    "    zong = re.findall('^031........',i)\n",
    "    if i in zong:\n",
    "        zong_count += 1\n",
    "        total +=1\n",
    "        print(i,\"      ZONG         \",zong_count)\n",
    "       \n",
    "print(36 * \"_\",\"\\n\")\n",
    "\n",
    "print(\"The total will be\")\n",
    "\n",
    "print(20 * \"_\")\n",
    "print(\"Telenor Users   =\",telenor_count)\n",
    "print(\"Ufone Users     =\",ufone_count)\n",
    "print(\"Warid Users     =\",warid_count)\n",
    "print(\"Jazz Users      =\",jazz_count)\n",
    "print(\"Zong Users      =\",zong_count)\n",
    "print(\"Total Users     =\",total)\n",
    "print(20 * \"_\")"
   ]
  }
 ],
 "metadata": {
  "kernelspec": {
   "display_name": "Python 3",
   "language": "python",
   "name": "python3"
  },
  "language_info": {
   "codemirror_mode": {
    "name": "ipython",
    "version": 3
   },
   "file_extension": ".py",
   "mimetype": "text/x-python",
   "name": "python",
   "nbconvert_exporter": "python",
   "pygments_lexer": "ipython3",
   "version": "3.7.3"
  }
 },
 "nbformat": 4,
 "nbformat_minor": 2
}
