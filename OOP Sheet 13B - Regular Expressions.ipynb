{
 "cells": [
  {
   "cell_type": "markdown",
   "metadata": {},
   "source": [
    "# Regular Expressions"
   ]
  },
  {
   "cell_type": "markdown",
   "metadata": {},
   "source": [
    "## Methods search() and sub()\n",
    "\n",
    "### The re.search() function performs regular expression-based string searching.\n",
    "### The re.sub() function performs regular expression-based string substitutions.\n",
    "\n",
    "#### 1. Does the string \"Space\" contain a, b, or c? Yes, it contains a and c."
   ]
  },
  {
   "cell_type": "code",
   "execution_count": null,
   "metadata": {},
   "outputs": [],
   "source": [
    "import re\n",
    "re.search('[abc]', 'Space')"
   ]
  },
  {
   "cell_type": "code",
   "execution_count": null,
   "metadata": {},
   "outputs": [],
   "source": [
    "re.search('[ate]', 'h The The Space')"
   ]
  },
  {
   "cell_type": "markdown",
   "metadata": {},
   "source": [
    "#### 2. OK, now find a, b, or c, and replace it with o. Space becomes Spooe."
   ]
  },
  {
   "cell_type": "code",
   "execution_count": null,
   "metadata": {},
   "outputs": [],
   "source": [
    "re.sub('[abc]', 'o', 'Space')"
   ]
  },
  {
   "cell_type": "markdown",
   "metadata": {},
   "source": [
    "#### 3. Let's take the output and use it as an input to replace a, e, or u with n.\n",
    "#### 4. As a result, the Space turned into a Spoon."
   ]
  },
  {
   "cell_type": "code",
   "execution_count": null,
   "metadata": {
    "scrolled": true
   },
   "outputs": [],
   "source": [
    "re.sub('[abc]', 'o', 'Space')"
   ]
  },
  {
   "cell_type": "code",
   "execution_count": null,
   "metadata": {},
   "outputs": [],
   "source": [
    "re.sub('[aeu]', 'n', 'Spooe')"
   ]
  },
  {
   "cell_type": "code",
   "execution_count": null,
   "metadata": {},
   "outputs": [],
   "source": [
    "re.sub('[aeu]', 'n', re.sub('[abc]', 'o', 'Space'))"
   ]
  },
  {
   "cell_type": "markdown",
   "metadata": {},
   "source": [
    "## Practice "
   ]
  },
  {
   "cell_type": "code",
   "execution_count": null,
   "metadata": {},
   "outputs": [],
   "source": [
    "import re\n",
    "re.search('[c]y$', 'emergency')"
   ]
  },
  {
   "cell_type": "code",
   "execution_count": null,
   "metadata": {},
   "outputs": [],
   "source": [
    "import re\n",
    "re.search('[c]y$', 'fancy')"
   ]
  },
  {
   "cell_type": "code",
   "execution_count": null,
   "metadata": {},
   "outputs": [],
   "source": [
    "re.search('[^c]y$', 'emergensy')"
   ]
  },
  {
   "cell_type": "code",
   "execution_count": null,
   "metadata": {},
   "outputs": [],
   "source": [
    "re.search('[^aeiou]y$', 'emergency')"
   ]
  },
  {
   "cell_type": "code",
   "execution_count": null,
   "metadata": {},
   "outputs": [],
   "source": [
    "re.search('[aeiou]y$', 'toy')"
   ]
  },
  {
   "cell_type": "markdown",
   "metadata": {},
   "source": [
    "## Another example"
   ]
  },
  {
   "cell_type": "code",
   "execution_count": null,
   "metadata": {},
   "outputs": [],
   "source": [
    "re.sub('y$', 'ies', 'emergency')"
   ]
  },
  {
   "cell_type": "code",
   "execution_count": null,
   "metadata": {},
   "outputs": [],
   "source": [
    "re.sub('y$', 'ies', 'semitransparency y')"
   ]
  },
  {
   "cell_type": "markdown",
   "metadata": {},
   "source": [
    "#### It is possible to combine these two regular expressions (one to find out if the rule applies, and another to actually apply it) into a single regular expression.\n",
    "#### Here's what that would look like. We're using a remembered group. The group is used to remember the character before the letter y. Then in the substitution string, we use a new syntax, \\1, which means, that first group we remembered? put it right here. \n",
    "#### In this case, we remember the c before the y; when we do the substitution, we substitute c in place of c, and ies in place of y. (If we have more than one remembered group, we can use \\2 and \\3 and so on.)"
   ]
  },
  {
   "cell_type": "code",
   "execution_count": null,
   "metadata": {},
   "outputs": [],
   "source": [
    "re.sub('([c])y$', r'\\1ies', 'emergency')"
   ]
  },
  {
   "cell_type": "code",
   "execution_count": null,
   "metadata": {},
   "outputs": [],
   "source": [
    "re.sub('([^aeiou])y$', r'\\1ies', 'emergency')"
   ]
  },
  {
   "cell_type": "markdown",
   "metadata": {},
   "source": [
    "## Example 1: IP address substitution in Python script"
   ]
  },
  {
   "cell_type": "code",
   "execution_count": 4,
   "metadata": {},
   "outputs": [
    {
     "name": "stdout",
     "output_type": "stream",
     "text": [
      "replaced = The IPs are 127.0.0.1 and 127.0.0.1\n"
     ]
    }
   ],
   "source": [
    "import re\n",
    "\n",
    "ipaddress_old = 'The IPs are 173.254.28.78 and 167.81.178.97'\n",
    "\n",
    "pattern = re.compile(r'\\b(?:[0-9]{1,3}\\.){3}[0-9]{1,3}\\b')\n",
    "\n",
    "ipaddress_new = '127.0.0.1'\n",
    "\n",
    "replaced = re.sub(pattern, ipaddress_new, ipaddress_old)\n",
    "\n",
    "print('replaced = %s' %(replaced))"
   ]
  },
  {
   "cell_type": "markdown",
   "metadata": {},
   "source": [
    "## Example 2: Pluralize nouns with regular expressions\n",
    "#### Will learn some of the regular expressions while doing pluralization of nouns."
   ]
  },
  {
   "cell_type": "code",
   "execution_count": 7,
   "metadata": {},
   "outputs": [
    {
     "data": {
      "text/plain": [
       "'huskies'"
      ]
     },
     "execution_count": 7,
     "metadata": {},
     "output_type": "execute_result"
    }
   ],
   "source": [
    "def pluralize(noun):          \n",
    "    if re.search('[sxz]$', noun):     \n",
    "        return re.sub('$', 'es', noun)\n",
    "    \n",
    "    elif re.search('[^aeioudgkprt]h$', noun):\n",
    "        return re.sub('$', 'es', noun)   \n",
    "    \n",
    "    elif re.search('[^aeiou]y$', noun):      \n",
    "        return re.sub('y$', 'ies', noun) \n",
    "    \n",
    "    else:\n",
    "        return noun + 's'\n",
    "pluralize('husky')"
   ]
  },
  {
   "cell_type": "markdown",
   "metadata": {},
   "source": [
    "### The four branches of if statements are the implementation of the following four rules of pluralization\n",
    "\n",
    "#### If a word ends in s, x, or z, add es. Example: Bass becomes basses, fax becomes faxes, and waltz becomes waltzes.\n",
    "#### If a word ends in a noisy h, add es; if it ends in a silent h, just add s. What's a noisy h? One that gets combined with other letters to make a sound that we can hear. So coach becomes coaches and rash becomes rashes, because we can hear the ch and sh sounds when we say them. But cheetah becomes cheetahs, because the h is silent.\n",
    "#### If a word ends in y that sounds like i, change the y to ies; if the y is combined with a vowel to sound like something else, just add s. So vacancy becomes vacancies, but day becomes days.\n",
    "#### If all else fails, just add s.\n",
    "\n",
    "\n",
    "## Explanation of 1st if condition:\n",
    "The square brackets [] mean match exactly one of these characters. So [sxz] means s, or x, or z, but only one of them. The $ matches the end of string. Combined, this regular expression tests whether noun ends with s, x, or z.\n",
    "\n",
    "Here, we're replacing the end of the string matched by $ with the string es. In other words, adding es to the string. We could accomplish the same thing with string concatenation, for example noun + 'es', but we opted to use regular expressions for each rule.\n",
    "\n",
    "## Explanation of 2nd if condition:\n",
    "This is another new variation. The ^ as the first character inside the square brackets means something special: negation. [^abc] means any single character except a, b, or c. So [^aeioudgkprt] means any character except a, e, i, o, u, d, g, k, p, r, or t. Then that character needs to be followed by h, followed by end of string. We're looking for words that end in h where the h can be heard.\n",
    "\n",
    "## Explanation of 3rd if condition:\n",
    "Same pattern here: match words that end in y, where the character before the y is not a, e, i, o, or u. We're looking for words that end in y that sounds like i.\n"
   ]
  }
 ],
 "metadata": {
  "kernelspec": {
   "display_name": "Python 3",
   "language": "python",
   "name": "python3"
  },
  "language_info": {
   "codemirror_mode": {
    "name": "ipython",
    "version": 3
   },
   "file_extension": ".py",
   "mimetype": "text/x-python",
   "name": "python",
   "nbconvert_exporter": "python",
   "pygments_lexer": "ipython3",
   "version": "3.7.3"
  }
 },
 "nbformat": 4,
 "nbformat_minor": 4
}
