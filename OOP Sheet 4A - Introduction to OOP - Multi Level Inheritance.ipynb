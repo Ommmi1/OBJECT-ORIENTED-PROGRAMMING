{
 "cells": [
  {
   "cell_type": "markdown",
   "metadata": {},
   "source": [
    "# Multi-Level Inheritance \n",
    "When a child class becomes a parent class for another child class."
   ]
  },
  {
   "cell_type": "code",
   "execution_count": 11,
   "metadata": {},
   "outputs": [
    {
     "name": "stdout",
     "output_type": "stream",
     "text": [
      "I am from First Child\n",
      "I am from Main Parent Class\n",
      "I am from Second Child\n",
      "I am from First Child\n",
      "I am from Main Parent Class\n"
     ]
    }
   ],
   "source": [
    "class MainParent:\n",
    "      def func1(self):\n",
    "          print(\"I am from Main Parent Class\")\n",
    "class FirstChild(MainParent):\n",
    "      def func2(self):\n",
    "          print(\"I am from First Child\")\n",
    "\n",
    "class SecondChild(FirstChild):\n",
    "    def func3(self):\n",
    "        print(\"I am from Second Child\")\n",
    "\n",
    "obj = FirstChild()\n",
    "obj.func2()\n",
    "\n",
    "obj2 = MainParent()\n",
    "obj2.func1()\n",
    "\n",
    "obj1 = SecondChild()\n",
    "obj1.func3()\n",
    "obj1.func2()\n",
    "obj1.func1()\n"
   ]
  },
  {
   "cell_type": "code",
   "execution_count": 24,
   "metadata": {},
   "outputs": [
    {
     "name": "stdout",
     "output_type": "stream",
     "text": [
      "I am from Faculty and sub class of Employee\n",
      "I am from Employee Class\n",
      "I am from Junior Faculty and sub class of Faculty\n",
      "I am from Faculty and sub class of Employee\n",
      "I am from Employee Class\n"
     ]
    }
   ],
   "source": [
    "class Employee:\n",
    "      def func1(self):\n",
    "          print(\"I am from Employee Class\")\n",
    "class Faculty(Employee):\n",
    "      def func2(self):\n",
    "          print(\"I am from Faculty and sub class of Employee\")\n",
    "\n",
    "class JuniorFaculty(Faculty):\n",
    "    def func3(self):\n",
    "        print(\"I am from Junior Faculty and sub class of Faculty\")\n",
    "\n",
    "fac_obj = JuniorFaculty()\n",
    "fac_obj.func2()\n",
    "\n",
    "jun_facobj = Employee()\n",
    "jun_facobj.func1()\n",
    "\n",
    "jfobj1 = JuniorFaculty()\n",
    "jfobj1.func3()\n",
    "jfobj1.func2()\n",
    "jfobj1.func1()"
   ]
  },
  {
   "cell_type": "markdown",
   "metadata": {},
   "source": [
    "# Perform the following Tasks:\n",
    "<li> Create a game in which you can show Multi-level Inheritance.\n",
    "<li> Create a list of courses which are pre-requsite to other courses. Select from your own courses.\n",
    "<li> Create a class of Pages, Tasks, Chapters, Exercises, Book, etc and place them in proper order. "
   ]
  },
  {
   "cell_type": "code",
   "execution_count": 19,
   "metadata": {},
   "outputs": [
    {
     "name": "stdout",
     "output_type": "stream",
     "text": [
      "This is our family:\n",
      "Father : Turab\n",
      "Mother : Amna\n",
      "I am son of  Turab and my mother name is Amna you can call me  Ahmed\n"
     ]
    }
   ],
   "source": [
    "class Family:\n",
    "    def show_family(self):\n",
    "        print(\"This is our family:\")\n",
    " \n",
    " \n",
    "# Father class inherited from Family\n",
    "class Father(Family):\n",
    "    fathername = \"\"\n",
    " \n",
    "    def show_father(self):\n",
    "        print(self.fathername)\n",
    " \n",
    " \n",
    "# Mother class inherited from Family\n",
    "class Mother(Family):\n",
    "    mothername = \"\"\n",
    " \n",
    "    def show_mother(self):\n",
    "        print(self.mothername)\n",
    " \n",
    " \n",
    "# Son class inherited from Father and Mother classes\n",
    "class Son(Father, Mother):\n",
    "    myname ='Ahmed'\n",
    "    def show_parent(self):\n",
    "        print(\"Father :\", self.fathername)\n",
    "        print(\"Mother :\", self.mothername)\n",
    "    \n",
    "    def my_intro(self):\n",
    "        print(\"I am son of \", self.fathername + \" and my mother name is\", self.mothername + \" you can call me \", self.myname)\n",
    " \n",
    " \n",
    "s1 = Son()  # Object of Son class\n",
    "s1.fathername = \"Turab\"\n",
    "s1.mothername = \"Amna\"\n",
    "s1.show_family()\n",
    "s1.show_parent()\n",
    "s1.my_intro()"
   ]
  },
  {
   "cell_type": "markdown",
   "metadata": {},
   "source": [
    "# super() function in Python:\n",
    "Python super function provides us the facility to refer to the parent class explicitly. It is basically useful where we have to call superclass functions. It returns the proxy object that allows us to refer parent class by ‘super’.\n",
    "\n",
    "To understand Python super function we must know about the inheritance. In Python inheritance, the subclasses are inherited from the superclass.\n",
    "\n",
    "Python Super function provides us the flexibility to do single level or multilevel inheritances and makes our work easier and comfortable. Keep one thing in mind that while referring the superclass from subclass, there is no need of writing the name of superclass explicitly."
   ]
  },
  {
   "cell_type": "code",
   "execution_count": 25,
   "metadata": {},
   "outputs": [
    {
     "name": "stdout",
     "output_type": "stream",
     "text": [
      "It is a mammal.\n",
      "Has legs and tail\n"
     ]
    }
   ],
   "source": [
    "class Animals: \n",
    "      \n",
    "    # Initializing constructor \n",
    "    def __init__(self): \n",
    "        self.legs = 4\n",
    "        self.domestic = True\n",
    "        self.tail = True\n",
    "        self.mammals = True\n",
    "      \n",
    "    def isMammal(self): \n",
    "        if self.isMammal: \n",
    "            print(\"It is a mammal.\") \n",
    "      \n",
    "    def isDomestic(self): \n",
    "        if self.mammals: \n",
    "            print(\"It is a domestic animal.\") \n",
    "      \n",
    "class Dogs(Animals): \n",
    "    def __init__(self): \n",
    "        super().__init__() \n",
    "  \n",
    "    def isMammal(self): \n",
    "        super().isMammal() \n",
    "  \n",
    "class Horses(Animals): \n",
    "    def __init__(self): \n",
    "        super().__init__() \n",
    "  \n",
    "    def hasTailandLegs(self): \n",
    "        if self.tail and self.legs == 4: \n",
    "            print(\"Has legs and tail\") \n",
    "  \n",
    " \n",
    "obj_dog = Dogs() \n",
    "obj_dog.isMammal() \n",
    "obj_hourse = Horses() \n",
    "obj_hourse.hasTailandLegs()"
   ]
  },
  {
   "cell_type": "markdown",
   "metadata": {},
   "source": [
    "# Perform the following Tasks:\n",
    "<li> Create your family tree using concepts in inheritance.\n",
    "<li> Create classes of RAM, HD, Graphics Cards, Processors and used it in your customize laptop.\n",
    "<li> Create a class which show your qualities and your work such as cooking, gardening, carwashing, cleaning, reading etc."
   ]
  },
  {
   "cell_type": "code",
   "execution_count": 11,
   "metadata": {},
   "outputs": [
    {
     "name": "stdout",
     "output_type": "stream",
     "text": [
      "This function is in school.\n",
      "This function is in student 1. \n",
      "This function is in student 3.\n"
     ]
    }
   ],
   "source": [
    "# Python program to demonstrate \n",
    "# hybrid inheritance \n",
    "  \n",
    "  \n",
    "class School: \n",
    "     def func1(self): \n",
    "         print(\"This function is in school.\") \n",
    "   \n",
    "class Student1(School): \n",
    "     def func2(self): \n",
    "         print(\"This function is in student 1. \") \n",
    "   \n",
    "class Student2(School): \n",
    "     def func3(self): \n",
    "         print(\"This function is in student 2.\") \n",
    "   \n",
    "class Student3(Student1, School): \n",
    "     def func4(self): \n",
    "         print(\"This function is in student 3.\") \n",
    "   \n",
    " \n",
    "object = Student3() \n",
    "object.func1() \n",
    "object.func2() \n",
    "object.func4()"
   ]
  },
  {
   "cell_type": "markdown",
   "metadata": {},
   "source": [
    "# Perform the following Tasks using Concepts of OOP (Inheritance):\n",
    "<li>Create a program using different types of bank accounts and customers.\n",
    "<li>Construct a list of reptiles from Wekipedia select few reptiles from different species.\n",
    "<li>Create a program in which you will use different type of dishes, soups and desserts. \n",
    "<li>Create a program for robot development, in which you have differnt types of servo motors, actuators, sensors to construct a robot and it can move or place the items from one place to other."
   ]
  },
  {
   "cell_type": "code",
   "execution_count": 9,
   "metadata": {},
   "outputs": [
    {
     "data": {
      "text/plain": [
       "('ashish', 'BS in computer science', 102, 'male')"
      ]
     },
     "execution_count": 9,
     "metadata": {},
     "output_type": "execute_result"
    }
   ],
   "source": [
    "class person:\n",
    "    def __init__(self,name,ID,sex,education):\n",
    "        self.name=name\n",
    "        self.ID=ID\n",
    "        self.sex=sex\n",
    "        self.education=education\n",
    "    \n",
    "\n",
    "class employee(person):\n",
    "    def description(self,company,working_hrs):\n",
    "        super().__init__(self.name,self.sex,self.education,self.ID)\n",
    "        self.company=company\n",
    "        self.working_hrs=working_hrs\n",
    "        return self.name,self.sex,self.education,self.ID,self.working_hrs,self.company\n",
    "\n",
    "\n",
    "class programmer(person):\n",
    "    def description(self):\n",
    "        super().__init__(self.name,self.sex,self.education,self.ID)\n",
    "        \n",
    "        return self.name,self.sex,self.education,self.ID\n",
    "\n",
    "object_prog=programmer(\"ashish\",102,\"male\",\"BS in computer science\")\n",
    "object_prog.description()\n",
    "# object_empl=employee(\"pranay\",202,\"male\",\"Senior accountant\")\n",
    "# object_empl.description(\"pso\",\"9-5\")\n",
    "\n",
    "\n"
   ]
  },
  {
   "cell_type": "code",
   "execution_count": null,
   "metadata": {},
   "outputs": [],
   "source": []
  }
 ],
 "metadata": {
  "kernelspec": {
   "display_name": "Python 3",
   "language": "python",
   "name": "python3"
  },
  "language_info": {
   "codemirror_mode": {
    "name": "ipython",
    "version": 3
   },
   "file_extension": ".py",
   "mimetype": "text/x-python",
   "name": "python",
   "nbconvert_exporter": "python",
   "pygments_lexer": "ipython3",
   "version": "3.7.3"
  }
 },
 "nbformat": 4,
 "nbformat_minor": 4
}
