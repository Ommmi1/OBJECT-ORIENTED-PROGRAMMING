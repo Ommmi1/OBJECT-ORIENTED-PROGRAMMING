{
 "cells": [
  {
   "cell_type": "markdown",
   "metadata": {},
   "source": [
    "# Object Oriented Programming Sheet 1 : Dated 31 March 2020\n"
   ]
  },
  {
   "cell_type": "markdown",
   "metadata": {},
   "source": [
    "# Define a class in Python"
   ]
  },
  {
   "cell_type": "code",
   "execution_count": 9,
   "metadata": {},
   "outputs": [],
   "source": [
    "class Teacher:\n",
    "    name = \"Dr. Lubaid Ahmed\"\n",
    "    course = \"Object Oriented Programming\"\n",
    "    "
   ]
  },
  {
   "cell_type": "markdown",
   "metadata": {},
   "source": [
    "# Creating Objects and Printing the attributes "
   ]
  },
  {
   "cell_type": "code",
   "execution_count": 10,
   "metadata": {},
   "outputs": [
    {
     "name": "stdout",
     "output_type": "stream",
     "text": [
      "Dr. Lubaid Ahmed\n",
      "Object Oriented Programming\n"
     ]
    }
   ],
   "source": [
    "t1 = Teacher()\n",
    "print(t1.name)\n",
    "print(t1.course)"
   ]
  },
  {
   "cell_type": "markdown",
   "metadata": {},
   "source": [
    "# The __init__()Function for Initialization "
   ]
  },
  {
   "cell_type": "code",
   "execution_count": 11,
   "metadata": {},
   "outputs": [
    {
     "name": "stdout",
     "output_type": "stream",
     "text": [
      "Dr. Lubaid Ahmed\n",
      "Object Oriented Programming\n"
     ]
    }
   ],
   "source": [
    "class MyTeacher:\n",
    "  def __init__(self, name, course):\n",
    "    self.name = name\n",
    "    self.course = course\n",
    "\n",
    "Myt1 = MyTeacher(\"Dr. Lubaid Ahmed\", \"Object Oriented Programming\")\n",
    "\n",
    "print(Myt1.name)\n",
    "print(Myt1.course)"
   ]
  },
  {
   "cell_type": "markdown",
   "metadata": {},
   "source": [
    "#### Note: The __init__() function is called automatically every time the class is being used to create a new object."
   ]
  },
  {
   "cell_type": "markdown",
   "metadata": {},
   "source": [
    "# Object Methods"
   ]
  },
  {
   "cell_type": "markdown",
   "metadata": {},
   "source": [
    "#### Objects can also contain methods. Methods in objects are functions that belongs to the object."
   ]
  },
  {
   "cell_type": "markdown",
   "metadata": {},
   "source": [
    "#### The self parameter is a reference to the current instance of the class, and is used to access variables that belongs to the class."
   ]
  },
  {
   "cell_type": "code",
   "execution_count": 12,
   "metadata": {},
   "outputs": [],
   "source": [
    "class MyTeacher:\n",
    " def __init__(self, name, course):\n",
    "    self.name = name\n",
    "    self.course = course\n",
    "\n",
    " def myintro(self): \n",
    "     print(\"Assalam o Alekum, My Name is : \"+ self.name)\n",
    "\n",
    " def mycourseintro(self):\n",
    "    print(\"I am teaching, \"+ self.course + \" in Spring 2020.\")"
   ]
  },
  {
   "cell_type": "code",
   "execution_count": 13,
   "metadata": {},
   "outputs": [],
   "source": [
    "Myt1 = MyTeacher(\"Dr. Lubaid Ahmed\", \"Object Oriented Programming\")"
   ]
  },
  {
   "cell_type": "code",
   "execution_count": 14,
   "metadata": {},
   "outputs": [
    {
     "name": "stdout",
     "output_type": "stream",
     "text": [
      "Assalam o Alekum, My Name is : Dr. Lubaid Ahmed\n",
      "I am teaching, Object Oriented Programming in Spring 2020.\n"
     ]
    }
   ],
   "source": [
    "Myt1.myintro()\n",
    "Myt1.mycourseintro()"
   ]
  },
  {
   "cell_type": "markdown",
   "metadata": {},
   "source": [
    "#### It does not have to be named self , you can call it whatever you like, but it has to be the first parameter of any function in the class:"
   ]
  },
  {
   "cell_type": "code",
   "execution_count": 15,
   "metadata": {},
   "outputs": [
    {
     "name": "stdout",
     "output_type": "stream",
     "text": [
      "Assalam o Alekum, My Name is : Dr. Lubaid Ahmed\n",
      "I am teaching, Object Oriented Programming in Spring 2020.\n"
     ]
    }
   ],
   "source": [
    "class MyTeacher:\n",
    " def __init__(abc_or_self, name, course):\n",
    "    abc_or_self.name = name\n",
    "    abc_or_self.course = course\n",
    "\n",
    " def myintro(abcd): \n",
    "     print(\"Assalam o Alekum, My Name is : \"+ abcd.name)\n",
    "\n",
    " def mycourseintro(efgh):\n",
    "    print(\"I am teaching, \"+ efgh.course + \" in Spring 2020.\")\n",
    "\n",
    "Myt1 = MyTeacher(\"Dr. Lubaid Ahmed\", \"Object Oriented Programming\")\n",
    "\n",
    "Myt1.myintro()\n",
    "Myt1.mycourseintro()"
   ]
  },
  {
   "cell_type": "markdown",
   "metadata": {},
   "source": [
    "# Modify Object Properties"
   ]
  },
  {
   "cell_type": "code",
   "execution_count": 16,
   "metadata": {},
   "outputs": [
    {
     "name": "stdout",
     "output_type": "stream",
     "text": [
      "Assalam o Alekum, My Name is : Ahmed\n",
      "I am teaching, OOP using Python in Spring 2020.\n"
     ]
    }
   ],
   "source": [
    "Myt1.name = \"Ahmed\"\n",
    "Myt1.course = \"OOP using Python\"\n",
    "\n",
    "Myt1.myintro()\n",
    "Myt1.mycourseintro()"
   ]
  },
  {
   "cell_type": "markdown",
   "metadata": {},
   "source": [
    "# Deleting Object Properties"
   ]
  },
  {
   "cell_type": "code",
   "execution_count": 17,
   "metadata": {},
   "outputs": [
    {
     "ename": "AttributeError",
     "evalue": "'MyTeacher' object has no attribute 'name'",
     "output_type": "error",
     "traceback": [
      "\u001b[1;31m---------------------------------------------------------------------------\u001b[0m",
      "\u001b[1;31mAttributeError\u001b[0m                            Traceback (most recent call last)",
      "\u001b[1;32m<ipython-input-17-9abbe4f16a09>\u001b[0m in \u001b[0;36m<module>\u001b[1;34m\u001b[0m\n\u001b[0;32m      1\u001b[0m \u001b[1;32mdel\u001b[0m \u001b[0mMyt1\u001b[0m\u001b[1;33m.\u001b[0m\u001b[0mname\u001b[0m\u001b[1;33m\u001b[0m\u001b[1;33m\u001b[0m\u001b[0m\n\u001b[0;32m      2\u001b[0m \u001b[1;33m\u001b[0m\u001b[0m\n\u001b[1;32m----> 3\u001b[1;33m \u001b[0mMyt1\u001b[0m\u001b[1;33m.\u001b[0m\u001b[0mmyintro\u001b[0m\u001b[1;33m(\u001b[0m\u001b[1;33m)\u001b[0m\u001b[1;33m\u001b[0m\u001b[1;33m\u001b[0m\u001b[0m\n\u001b[0m",
      "\u001b[1;32m<ipython-input-15-cfe9e0d77b37>\u001b[0m in \u001b[0;36mmyintro\u001b[1;34m(abcd)\u001b[0m\n\u001b[0;32m      5\u001b[0m \u001b[1;33m\u001b[0m\u001b[0m\n\u001b[0;32m      6\u001b[0m  \u001b[1;32mdef\u001b[0m \u001b[0mmyintro\u001b[0m\u001b[1;33m(\u001b[0m\u001b[0mabcd\u001b[0m\u001b[1;33m)\u001b[0m\u001b[1;33m:\u001b[0m\u001b[1;33m\u001b[0m\u001b[1;33m\u001b[0m\u001b[0m\n\u001b[1;32m----> 7\u001b[1;33m      \u001b[0mprint\u001b[0m\u001b[1;33m(\u001b[0m\u001b[1;34m\"Assalam o Alekum, My Name is : \"\u001b[0m\u001b[1;33m+\u001b[0m \u001b[0mabcd\u001b[0m\u001b[1;33m.\u001b[0m\u001b[0mname\u001b[0m\u001b[1;33m)\u001b[0m\u001b[1;33m\u001b[0m\u001b[1;33m\u001b[0m\u001b[0m\n\u001b[0m\u001b[0;32m      8\u001b[0m \u001b[1;33m\u001b[0m\u001b[0m\n\u001b[0;32m      9\u001b[0m  \u001b[1;32mdef\u001b[0m \u001b[0mmycourseintro\u001b[0m\u001b[1;33m(\u001b[0m\u001b[0mefgh\u001b[0m\u001b[1;33m)\u001b[0m\u001b[1;33m:\u001b[0m\u001b[1;33m\u001b[0m\u001b[1;33m\u001b[0m\u001b[0m\n",
      "\u001b[1;31mAttributeError\u001b[0m: 'MyTeacher' object has no attribute 'name'"
     ]
    }
   ],
   "source": [
    "del Myt1.name\n",
    "\n",
    "Myt1.myintro()"
   ]
  },
  {
   "cell_type": "markdown",
   "metadata": {},
   "source": [
    "# Delete Objects"
   ]
  },
  {
   "cell_type": "code",
   "execution_count": 18,
   "metadata": {},
   "outputs": [
    {
     "ename": "NameError",
     "evalue": "name 'Myt1' is not defined",
     "output_type": "error",
     "traceback": [
      "\u001b[1;31m---------------------------------------------------------------------------\u001b[0m",
      "\u001b[1;31mNameError\u001b[0m                                 Traceback (most recent call last)",
      "\u001b[1;32m<ipython-input-18-9356ea461475>\u001b[0m in \u001b[0;36m<module>\u001b[1;34m\u001b[0m\n\u001b[0;32m      1\u001b[0m \u001b[1;32mdel\u001b[0m \u001b[0mMyt1\u001b[0m\u001b[1;33m\u001b[0m\u001b[1;33m\u001b[0m\u001b[0m\n\u001b[0;32m      2\u001b[0m \u001b[1;33m\u001b[0m\u001b[0m\n\u001b[1;32m----> 3\u001b[1;33m \u001b[0mMyt1\u001b[0m\u001b[1;33m.\u001b[0m\u001b[0mmycourseintro\u001b[0m\u001b[1;33m(\u001b[0m\u001b[1;33m)\u001b[0m\u001b[1;33m\u001b[0m\u001b[1;33m\u001b[0m\u001b[0m\n\u001b[0m",
      "\u001b[1;31mNameError\u001b[0m: name 'Myt1' is not defined"
     ]
    }
   ],
   "source": [
    "del Myt1\n",
    "\n",
    "Myt1.mycourseintro()"
   ]
  }
 ],
 "metadata": {
  "kernelspec": {
   "display_name": "Python 3",
   "language": "python",
   "name": "python3"
  },
  "language_info": {
   "codemirror_mode": {
    "name": "ipython",
    "version": 3
   },
   "file_extension": ".py",
   "mimetype": "text/x-python",
   "name": "python",
   "nbconvert_exporter": "python",
   "pygments_lexer": "ipython3",
   "version": "3.7.4"
  }
 },
 "nbformat": 4,
 "nbformat_minor": 4
}
