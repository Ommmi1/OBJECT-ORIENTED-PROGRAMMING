{
 "cells": [
  {
   "cell_type": "markdown",
   "metadata": {},
   "source": [
    "# Streams and Buffers"
   ]
  },
  {
   "cell_type": "markdown",
   "metadata": {},
   "source": [
    "## Python I/O streams and buffers\n",
    "They are necessary to understand the internals of how Python treats files and data in general."
   ]
  },
  {
   "cell_type": "markdown",
   "metadata": {},
   "source": [
    "## Python IO Module\n",
    "There are many ways in which we can use the io module to perform stream and buffer operations in Python. \n",
    "Just like what we do with variables, data can be kept as bytes in an in-memory buffer when we use the io module’s StringIO operations."
   ]
  },
  {
   "cell_type": "markdown",
   "metadata": {},
   "source": [
    "## Python String IO"
   ]
  },
  {
   "cell_type": "code",
   "execution_count": 1,
   "metadata": {},
   "outputs": [
    {
     "name": "stdout",
     "output_type": "stream",
     "text": [
      "This is initial string.\n",
      "The string after writing is: This is initial string. Welcome to the StringIO Introduction.\n"
     ]
    }
   ],
   "source": [
    "# Importing the StringIO module. \n",
    "from io import StringIO   \n",
    "   \n",
    "# The arbitrary string. \n",
    "string ='This is initial string.'\n",
    "  \n",
    "# Using the StringIO method to set as file object. Now we have an  \n",
    "# object file that we will able to treat just like a file. \n",
    "file = StringIO(string) \n",
    "  \n",
    "# this will read the file  \n",
    "print(file.read()) \n",
    "  \n",
    "# We can also write this file. \n",
    "file.write(\" Welcome to the StringIO Introduction.\") \n",
    "  \n",
    "# This will make the cursor at index 0. \n",
    "file.seek(0) \n",
    "  \n",
    "# This will print the file after writing in the initial string. \n",
    "print('The string after writing is:', file.read())\n"
   ]
  },
  {
   "cell_type": "markdown",
   "metadata": {},
   "source": [
    "### Functions of StringIO which returns Boolean values i.e either True or false"
   ]
  },
  {
   "cell_type": "code",
   "execution_count": 2,
   "metadata": {},
   "outputs": [
    {
     "name": "stdout",
     "output_type": "stream",
     "text": [
      "Is the file stream interactive? False\n",
      "Is the file stream readable? True\n",
      "Is the file stream writable? True\n",
      "Is the file stream seekable? True\n",
      "Is the file closed? False\n"
     ]
    }
   ],
   "source": [
    "# Importing the StringIO module. \n",
    "from io import StringIO   \n",
    "  \n",
    "# The arbitrary string. \n",
    "string ='Hello and welcome.'\n",
    "  \n",
    "# Using the StringIO method to set as file object. \n",
    "file = StringIO(string)  \n",
    "  \n",
    "# This will returns whether the file is interactive or not. \n",
    "print(\"Is the file stream interactive?\", file.isatty())  \n",
    "  \n",
    "# This will returns whether the file is readable or not. \n",
    "print(\"Is the file stream readable?\", file.readable()) \n",
    "  \n",
    "# This will returns whether the file supports writing or not. \n",
    "print(\"Is the file stream writable?\", file.writable()) \n",
    "  \n",
    "# This will returns whether the file is seekable or not. \n",
    "print(\"Is the file stream seekable?\", file.seekable()) \n",
    "  \n",
    "# This will returns whether the file is closed or not. \n",
    "print(\"Is the file closed?\", file.closed)"
   ]
  },
  {
   "cell_type": "markdown",
   "metadata": {},
   "source": [
    "### StringIO.seek():\n",
    "### The seek() function is used set the cursor position on the file. \n",
    "If we perform any read and write operation on a file the cursor is set on the last index so to move the cursor at starting index of the file seek() is used."
   ]
  },
  {
   "cell_type": "code",
   "execution_count": 11,
   "metadata": {},
   "outputs": [
    {
     "name": "stdout",
     "output_type": "stream",
     "text": [
      "Hello and welcome to StringIO.\n",
      " welcome to StringIO.\n"
     ]
    }
   ],
   "source": [
    "# Importing the StringIO module. \n",
    "from io import StringIO   \n",
    "  \n",
    "# The arbitrary string. \n",
    "string ='Hello and welcome to StringIO.'\n",
    "  \n",
    "# Using the StringIO method to set as file object. \n",
    "file = StringIO(string)  \n",
    "  \n",
    "# Reading the file: \n",
    "print(file.read()) \n",
    "  \n",
    "# Now if we again want to read the file it shows empty file \n",
    "# because the cursor is set to the last index. \n",
    "  \n",
    "# This does not print anything beacuse the function returns an empty string. \n",
    "# print(file.read())  \n",
    "  \n",
    "# Hence to set the cursor position to read or write the file again we use seek().\n",
    "# We can pass any index here form(0 to len(file)) \n",
    "file.seek(9)  \n",
    "  \n",
    "# Now we can able to read the file again() \n",
    "print(file.read())"
   ]
  },
  {
   "cell_type": "markdown",
   "metadata": {},
   "source": [
    "### StringIO.truncate(): \n",
    "### This function is used to resize the size of the file stream.\n",
    "This method drops the file after the provided index and save it."
   ]
  },
  {
   "cell_type": "code",
   "execution_count": 16,
   "metadata": {},
   "outputs": [
    {
     "name": "stdout",
     "output_type": "stream",
     "text": [
      "Hello and welcome to StringIO.\n",
      "o \n"
     ]
    }
   ],
   "source": [
    "# Importing the StringIO module. \n",
    "from io import StringIO   \n",
    "  \n",
    "# The arbitrary string. \n",
    "str ='Hello and welcome to StringIO.'\n",
    "  \n",
    "# Using the StringIO method to set as file object. \n",
    "file = StringIO(str)  \n",
    "  \n",
    "# Reading the initial file: \n",
    "print(file.read()) \n",
    "  \n",
    "# To set the cursor at 0. \n",
    "file.seek(4)  \n",
    "  \n",
    "# This will drop the file after index 18. \n",
    "file.truncate(6) \n",
    "  \n",
    "# File after truncate. \n",
    "print(file.read()) "
   ]
  },
  {
   "cell_type": "markdown",
   "metadata": {},
   "source": [
    "### StringIO.tell(): \n",
    "### This method is used to tell the current stream or cursor position of the file."
   ]
  },
  {
   "cell_type": "code",
   "execution_count": 18,
   "metadata": {},
   "outputs": [
    {
     "name": "stdout",
     "output_type": "stream",
     "text": [
      "0\n",
      "5\n"
     ]
    }
   ],
   "source": [
    "# Importing the StringIO module. \n",
    "from io import StringIO   \n",
    "   \n",
    "# The arbitrary string. \n",
    "string ='Hello and welcome to StringIO.'\n",
    "  \n",
    "# Using the StringIO method to set aas file object. \n",
    "file = StringIO(string) \n",
    "  \n",
    "# Here the cursor is at index 0. \n",
    "print(file.tell()) \n",
    "  \n",
    "# Cursor is set to index 20. \n",
    "file.seek(5) \n",
    "  \n",
    "# Print the index of cursor \n",
    "print(file.tell())"
   ]
  },
  {
   "cell_type": "markdown",
   "metadata": {},
   "source": [
    "### StringIO.close(): \n",
    "### This method is used to close the file.\n",
    "If this function called on a file after we cannot perform any operation on the file. If any operation performed it will raise aa ValueError."
   ]
  },
  {
   "cell_type": "code",
   "execution_count": 22,
   "metadata": {},
   "outputs": [
    {
     "name": "stdout",
     "output_type": "stream",
     "text": [
      "Hello and welcome to StringIO.\n",
      "Is the file closed? True\n"
     ]
    }
   ],
   "source": [
    "# Importing the StringIO module. \n",
    "from io import StringIO   \n",
    "    \n",
    "# The arbitrary string. \n",
    "string ='Hello and welcome to StringIO.'\n",
    "  \n",
    "# Using the StringIO method to set as file object. \n",
    "file = StringIO(string) \n",
    "  \n",
    "# Reading the file. \n",
    "print(file.read())  \n",
    "  \n",
    "# Closing the file. \n",
    "file.close()  \n",
    "  \n",
    "# If we now perform any operation on the file it will raise an ValueError. \n",
    "  \n",
    "# This is to know whether the file is closed or not. \n",
    "print(\"Is the file closed?\", file.closed)"
   ]
  },
  {
   "cell_type": "markdown",
   "metadata": {},
   "source": [
    "## Python BytesIO\n",
    "Just like what we do with variables, data can be kept as bytes in an in-memory buffer when we use the io module’s Byte IO operations."
   ]
  },
  {
   "cell_type": "code",
   "execution_count": 31,
   "metadata": {},
   "outputs": [
    {
     "name": "stdout",
     "output_type": "stream",
     "text": [
      "b'I am a byte string a'\n"
     ]
    }
   ],
   "source": [
    "from io import BytesIO, StringIO\n",
    "\n",
    "binary_stream =  BytesIO(b'I am a byte string \\x61')\n",
    "\n",
    "print(binary_stream.getvalue()) # Prints b'I am a byte string \\x01'\n"
   ]
  },
  {
   "cell_type": "markdown",
   "metadata": {},
   "source": [
    "## Difference between both text stream and binary stream"
   ]
  },
  {
   "cell_type": "code",
   "execution_count": 29,
   "metadata": {},
   "outputs": [
    {
     "name": "stdout",
     "output_type": "stream",
     "text": [
      "b'I am a byte string CAT'\n",
      "Sorry, text stream cannot store bytes\n"
     ]
    }
   ],
   "source": [
    "from io import BytesIO, StringIO\n",
    "\n",
    "binary_stream =  BytesIO(b'I am a byte string \\x43\\x41\\x54')\n",
    "\n",
    "print(binary_stream.getvalue()) # Prints b'I am a byte string \\x01'\n",
    "\n",
    "try:\n",
    "  text_stream = StringIO(binary_stream.getvalue())\n",
    "except TypeError:\n",
    "  print('Sorry, text stream cannot store bytes')"
   ]
  }
 ],
 "metadata": {
  "kernelspec": {
   "display_name": "Python 3",
   "language": "python",
   "name": "python3"
  },
  "language_info": {
   "codemirror_mode": {
    "name": "ipython",
    "version": 3
   },
   "file_extension": ".py",
   "mimetype": "text/x-python",
   "name": "python",
   "nbconvert_exporter": "python",
   "pygments_lexer": "ipython3",
   "version": "3.7.3"
  }
 },
 "nbformat": 4,
 "nbformat_minor": 4
}
