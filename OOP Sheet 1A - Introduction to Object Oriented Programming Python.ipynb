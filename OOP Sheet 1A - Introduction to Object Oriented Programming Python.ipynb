{
 "cells": [
  {
   "cell_type": "markdown",
   "metadata": {},
   "source": [
    "# Object Oriented Programming Sheet 1 : Dated 31 March 2020\n"
   ]
  },
  {
   "cell_type": "markdown",
   "metadata": {},
   "source": [
    "# Define a class in Python"
   ]
  },
  {
   "cell_type": "code",
   "execution_count": 1,
   "metadata": {},
   "outputs": [],
   "source": [
    "class Teacher:\n",
    "    name = \"Dr. Lubaid Ahmed\"\n",
    "    course = \"Object Oriented Programming\"\n",
    "    "
   ]
  },
  {
   "cell_type": "markdown",
   "metadata": {},
   "source": [
    "# Creating Objects and Printing the attributes "
   ]
  },
  {
   "cell_type": "code",
   "execution_count": 2,
   "metadata": {},
   "outputs": [
    {
     "name": "stdout",
     "output_type": "stream",
     "text": [
      "Dr. Lubaid Ahmed\n",
      "Object Oriented Programming\n"
     ]
    }
   ],
   "source": [
    "t1 = Teacher()\n",
    "print(t1.name)\n",
    "print(t1.course)"
   ]
  },
  {
   "cell_type": "markdown",
   "metadata": {},
   "source": [
    "# The __init__()Function for Initialization "
   ]
  },
  {
   "cell_type": "code",
   "execution_count": 3,
   "metadata": {},
   "outputs": [
    {
     "name": "stdout",
     "output_type": "stream",
     "text": [
      "Dr. Lubaid Ahmed\n",
      "Object Oriented Programming\n"
     ]
    }
   ],
   "source": [
    "class MyTeacher:\n",
    "  def __init__(self, name, course):\n",
    "    self.name = name\n",
    "    self.course = course\n",
    "\n",
    "Myt1 = MyTeacher(\"Dr. Lubaid Ahmed\", \"Object Oriented Programming\")\n",
    "\n",
    "print(Myt1.name)\n",
    "print(Myt1.course)"
   ]
  },
  {
   "cell_type": "markdown",
   "metadata": {},
   "source": [
    "#### Note: The __init__() function is called automatically every time the class is being used to create a new object."
   ]
  },
  {
   "cell_type": "markdown",
   "metadata": {},
   "source": [
    "# Object Methods"
   ]
  },
  {
   "cell_type": "markdown",
   "metadata": {},
   "source": [
    "#### Objects can also contain methods. Methods in objects are functions that belongs to the object."
   ]
  },
  {
   "cell_type": "markdown",
   "metadata": {},
   "source": [
    "#### The self parameter is a reference to the current instance of the class, and is used to access variables that belongs to the class."
   ]
  },
  {
   "cell_type": "code",
   "execution_count": 4,
   "metadata": {},
   "outputs": [
    {
     "name": "stdout",
     "output_type": "stream",
     "text": [
      "Assalam o Alekum, My Name is : Dr. Lubaid Ahmed\n",
      "I am teaching, Object Oriented Programming in Spring 2020.\n"
     ]
    }
   ],
   "source": [
    "class MyTeacher:\n",
    " def __init__(self, name, course):\n",
    "    self.name = name\n",
    "    self.course = course\n",
    "\n",
    " def myintro(self): \n",
    "     print(\"Assalam o Alekum, My Name is : \"+ self.name)\n",
    "\n",
    " def mycourseintro(self):\n",
    "    print(\"I am teaching, \"+ self.course + \" in Spring 2020.\")\n",
    "\n",
    "Myt1 = MyTeacher(\"Dr. Lubaid Ahmed\", \"Object Oriented Programming\")\n",
    "\n",
    "Myt1.myintro()\n",
    "Myt1.mycourseintro()\n",
    "\n"
   ]
  },
  {
   "cell_type": "markdown",
   "metadata": {},
   "source": [
    "#### It does not have to be named self , you can call it whatever you like, but it has to be the first parameter of any function in the class:"
   ]
  }
 ],
 "metadata": {
  "kernelspec": {
   "display_name": "Python 3",
   "language": "python",
   "name": "python3"
  },
  "language_info": {
   "codemirror_mode": {
    "name": "ipython",
    "version": 3
   },
   "file_extension": ".py",
   "mimetype": "text/x-python",
   "name": "python",
   "nbconvert_exporter": "python",
   "pygments_lexer": "ipython3",
   "version": "3.7.4"
  }
 },
 "nbformat": 4,
 "nbformat_minor": 4
}
