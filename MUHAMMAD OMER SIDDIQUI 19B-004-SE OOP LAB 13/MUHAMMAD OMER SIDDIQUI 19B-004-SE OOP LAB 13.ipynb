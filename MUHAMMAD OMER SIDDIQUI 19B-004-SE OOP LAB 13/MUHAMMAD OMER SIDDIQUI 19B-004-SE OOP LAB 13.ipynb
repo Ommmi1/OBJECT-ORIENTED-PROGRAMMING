{
 "cells": [
  {
   "cell_type": "markdown",
   "metadata": {},
   "source": [
    "# MUHAMMAD OMER SIDDIQUI 19B-004-SE LAB 13"
   ]
  },
  {
   "cell_type": "code",
   "execution_count": 1,
   "metadata": {},
   "outputs": [
    {
     "name": "stdout",
     "output_type": "stream",
     "text": [
      "2.0\n"
     ]
    }
   ],
   "source": [
    "try:\n",
    "    a=10\n",
    "    b=5\n",
    "    print(a/b)\n",
    "except:\n",
    "    print('Some error occurred.')\n",
    "    print(\"Out of try except blocks.\")"
   ]
  },
  {
   "cell_type": "code",
   "execution_count": 2,
   "metadata": {},
   "outputs": [
    {
     "name": "stdout",
     "output_type": "stream",
     "text": [
      "Some error occurred.\n",
      "Out of try except blocks.\n"
     ]
    }
   ],
   "source": [
    "try:\n",
    "    a=10\n",
    "    b='0'\n",
    "    print(a/b)\n",
    "except:\n",
    "    print('Some error occurred.')\n",
    "    print(\"Out of try except blocks.\")"
   ]
  },
  {
   "cell_type": "code",
   "execution_count": 3,
   "metadata": {},
   "outputs": [
    {
     "name": "stdout",
     "output_type": "stream",
     "text": [
      "Unsupported operation\n",
      "Out of try except blocks\n"
     ]
    }
   ],
   "source": [
    "try:\n",
    "    a=5\n",
    "    b='0'\n",
    "    print (a+b)\n",
    "except TypeError:\n",
    "    print('Unsupported operation')\n",
    "    print (\"Out of try except blocks\")"
   ]
  },
  {
   "cell_type": "code",
   "execution_count": 4,
   "metadata": {},
   "outputs": [
    {
     "name": "stdout",
     "output_type": "stream",
     "text": [
      "Division by zero not allowed\n",
      "Out of try except blocks\n"
     ]
    }
   ],
   "source": [
    "try:\n",
    "    a=5\n",
    "    b=0\n",
    "    print (a/b)\n",
    "except TypeError:\n",
    "    print('Unsupported operation')\n",
    "except ZeroDivisionError:\n",
    "    print ('Division by zero not allowed')\n",
    "    print ('Out of try except blocks')"
   ]
  },
  {
   "cell_type": "code",
   "execution_count": 15,
   "metadata": {},
   "outputs": [
    {
     "name": "stdout",
     "output_type": "stream",
     "text": [
      "Enter a number: 2\n",
      "Enter another number: 0\n",
      "except ZeroDivisionError block\n",
      "Division by 0 not accepted\n",
      "finally block\n",
      "Out of try, except, else and finally blocks.\n"
     ]
    }
   ],
   "source": [
    "try:\n",
    "    x=int(input('Enter a number: '))\n",
    "    y=int(input('Enter another number: '))\n",
    "    z=x/y\n",
    "except ZeroDivisionError:\n",
    "    print(\"except ZeroDivisionError block\")\n",
    "    print(\"Division by 0 not accepted\")\n",
    "else:\n",
    "    print(\"else block\")\n",
    "    print(\"Division = \", z)\n",
    "finally:\n",
    "    print(\"finally block\")\n",
    "    print (\"Out of try, except, else and finally blocks.\" )"
   ]
  },
  {
   "cell_type": "code",
   "execution_count": 8,
   "metadata": {},
   "outputs": [
    {
     "name": "stdout",
     "output_type": "stream",
     "text": [
      "Enter a number upto 100: 999\n",
      "999 is out of allowed range\n"
     ]
    }
   ],
   "source": [
    "try:\n",
    "    x=int(input('Enter a number upto 100: '))\n",
    "    if x > 100:\n",
    "        raise ValueError(x)\n",
    "except ValueError:\n",
    "    print(x, \"is out of allowed range\")\n",
    "else:\n",
    "    print(x, \"is within the allowed range\")"
   ]
  },
  {
   "cell_type": "markdown",
   "metadata": {},
   "source": [
    "# Task1:\n",
    "# Write a program that take a user input to catch an exception of ZeroDivisionError\n",
    "# and Value Error"
   ]
  },
  {
   "cell_type": "code",
   "execution_count": 21,
   "metadata": {},
   "outputs": [
    {
     "name": "stdout",
     "output_type": "stream",
     "text": [
      "Enter number: 4\n",
      "Enter number: 0\n",
      "Division by zero not allowed\n"
     ]
    }
   ],
   "source": [
    "try:\n",
    "    one = eval(input(\"Enter number: \"))\n",
    "    two = eval(input(\"Enter number: \"))\n",
    "    print(one/two)\n",
    "except ValueError:\n",
    "    print('Value Error Occured')\n",
    "except ZeroDivisionError:\n",
    "    print ('Division by zero not allowed')"
   ]
  },
  {
   "cell_type": "markdown",
   "metadata": {},
   "source": [
    "# Task2:\n",
    "\n",
    "# Write a program that take a user input to catch an exception of TypeError"
   ]
  },
  {
   "cell_type": "code",
   "execution_count": 24,
   "metadata": {},
   "outputs": [
    {
     "name": "stdout",
     "output_type": "stream",
     "text": [
      "Unsupported operation\n"
     ]
    }
   ],
   "source": [
    "try:\n",
    "    f = 3\n",
    "    s = 'c'\n",
    "    print(f\"Addition : {f + s}\")\n",
    "except TypeError:\n",
    "    print('Unsupported operation')"
   ]
  }
 ],
 "metadata": {
  "kernelspec": {
   "display_name": "Python 3",
   "language": "python",
   "name": "python3"
  },
  "language_info": {
   "codemirror_mode": {
    "name": "ipython",
    "version": 3
   },
   "file_extension": ".py",
   "mimetype": "text/x-python",
   "name": "python",
   "nbconvert_exporter": "python",
   "pygments_lexer": "ipython3",
   "version": "3.7.3"
  }
 },
 "nbformat": 4,
 "nbformat_minor": 2
}
