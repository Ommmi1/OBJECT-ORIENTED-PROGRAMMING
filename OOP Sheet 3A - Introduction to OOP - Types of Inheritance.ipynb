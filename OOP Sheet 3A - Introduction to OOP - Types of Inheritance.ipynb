{
 "cells": [
  {
   "cell_type": "markdown",
   "metadata": {},
   "source": [
    "# Chapter 2 - About Inheritance and its types"
   ]
  },
  {
   "cell_type": "markdown",
   "metadata": {},
   "source": [
    "# Inheritance \n"
   ]
  },
  {
   "cell_type": "markdown",
   "metadata": {},
   "source": [
    "The method of inheriting the properties of parent class into a child class is known as inheritance. It is an OOP concept. Following are the benefits of inheritance.\n",
    "\n",
    "<li>Code reusability- we do not have to write the same code again and again, we can just inherit the properties we need in a child class.\n",
    "\n",
    "<li>It represents a real world relationship between parent class and child class.\n",
    "\n",
    "<li>It is transitive in nature. If a child class inherits properties from a parent class, then all other sub-classes of the child class will also inherit the properties of the parent class."
   ]
  },
  {
   "cell_type": "code",
   "execution_count": 1,
   "metadata": {},
   "outputs": [],
   "source": [
    "class Parent():\n",
    "    def intro(self):\n",
    "        print('I am a Parent')\n",
    "class Child(Parent):\n",
    "    def myintro(self):\n",
    "        print('I am a Child')"
   ]
  },
  {
   "cell_type": "code",
   "execution_count": 2,
   "metadata": {},
   "outputs": [],
   "source": [
    "ob1 = Child()"
   ]
  },
  {
   "cell_type": "code",
   "execution_count": 3,
   "metadata": {},
   "outputs": [
    {
     "name": "stdout",
     "output_type": "stream",
     "text": [
      "I am a Parent\n",
      "I am a Child\n"
     ]
    }
   ],
   "source": [
    "ob1.intro()\n",
    "ob1.myintro()"
   ]
  },
  {
   "cell_type": "markdown",
   "metadata": {},
   "source": [
    "### Task (a)\n",
    "Create a class of vehicle with Child (any type of vehicle) and print them.\n",
    "\n",
    "### Task (b)\n",
    "Create a class of Tree with Child (any type of tree) and print them.\n",
    "\n",
    "### Task (c)\n",
    "Create a class of Book with Child (any topic and title of book) and print them."
   ]
  },
  {
   "cell_type": "markdown",
   "metadata": {},
   "source": [
    "# Sub-classing \n",
    "<p>Calling a constructor of the parent class by mentioning the parent class name in the declaration of the child class is known as sub-classing. A child class identifies its parent class by sub-classing.\n",
    "\n"
   ]
  },
  {
   "cell_type": "markdown",
   "metadata": {},
   "source": [
    "# __init__( ) Function\n",
    "\n",
    "<li>The __init__() function is called every time a class is being used to make an object. \n",
    "<li>When we add the __init__() function in a parent class, the child class will no longer be able to inherit the parent class’s __init__() function.\n",
    "<li>The child’s class __init__() function overrides the parent class’s __init__() function."
   ]
  },
  {
   "cell_type": "code",
   "execution_count": 6,
   "metadata": {},
   "outputs": [],
   "source": [
    "class Parent:\n",
    "    def __init__(self , fname, cname):\n",
    "        self.firstname = fname\n",
    "        self.coursename = cname\n",
    "     \n",
    "    def view(self):\n",
    "        print(self.firstname , self.coursename)\n",
    "\n",
    "            \n",
    "class Child(Parent):\n",
    "    def __init__(self , fname , cname):\n",
    "        Parent.__init__(self, fname, cname)\n",
    "        self.lastname = \"Ahmed\"\n",
    "     \n",
    "    def view(self):\n",
    "        print(\"My name is \" , self.firstname ,\". I am teaching\",  self.coursename , \"course.\" ,  \"\\nMy last name is\",self.lastname)"
   ]
  },
  {
   "cell_type": "code",
   "execution_count": 7,
   "metadata": {},
   "outputs": [],
   "source": [
    "child_ob = Child(\"Dr. Lubaid\" , 'Object Oriented Programming')"
   ]
  },
  {
   "cell_type": "code",
   "execution_count": 8,
   "metadata": {},
   "outputs": [
    {
     "name": "stdout",
     "output_type": "stream",
     "text": [
      "My name is  Dr. Lubaid . I am teaching Object Oriented Programming course. \n",
      "My last name is Ahmed\n"
     ]
    }
   ],
   "source": [
    "child_ob.view()"
   ]
  },
  {
   "cell_type": "markdown",
   "metadata": {},
   "source": [
    "# Types Of Inheritance\n",
    "Depending upon the number of child and parent classes involved, there are four types of inheritance in python.\n",
    "<li>1. Single\n",
    "<li>2. Multiple\n",
    "<li>3. Multi-level\n",
    "<li>4. Hierarchical"
   ]
  },
  {
   "cell_type": "markdown",
   "metadata": {},
   "source": [
    "# Single Inheritance \n",
    "When a child class inherits only a single parent class."
   ]
  },
  {
   "cell_type": "code",
   "execution_count": 9,
   "metadata": {},
   "outputs": [],
   "source": [
    "class Parent:\n",
    "     def intro1(self):\n",
    "          print(\"I am from Parent Class\")\n",
    "        \n",
    "class Child(Parent):\n",
    "     def intro1(self):\n",
    "          print(\"I am from Child Class\")"
   ]
  },
  {
   "cell_type": "code",
   "execution_count": 17,
   "metadata": {},
   "outputs": [
    {
     "name": "stdout",
     "output_type": "stream",
     "text": [
      "I am from Child Class\n",
      "I am from Child Class\n"
     ]
    }
   ],
   "source": [
    "\n",
    "child_obj = Child()\n",
    "child_obj.intro1()\n",
    "child_obj.intro1()"
   ]
  },
  {
   "cell_type": "markdown",
   "metadata": {},
   "source": [
    "# Using concept of Single Inheritance Perform following Tasks\n",
    "Task (a)\n",
    "Create a class of airplane with Children (any two different types of planes such as fighter and passenger) and print them.\n",
    "\n",
    "Task (b)\n",
    "Create a class of plant with Children (any type of plants such as roses and decoration) and print them.\n",
    "\n",
    "Task (c)\n",
    "Create a class of Song with Children (any type of songs such as national, sad, romantic) and print them."
   ]
  },
  {
   "cell_type": "markdown",
   "metadata": {},
   "source": [
    "# Multiple Inheritance\n",
    "When a child class inherits from more than one parent class."
   ]
  },
  {
   "cell_type": "code",
   "execution_count": 10,
   "metadata": {},
   "outputs": [
    {
     "name": "stdout",
     "output_type": "stream",
     "text": [
      "I am from Parent 1 Class\n",
      "I am from Parent 2 Class\n",
      "I am from Child Class\n"
     ]
    }
   ],
   "source": [
    "class Parent1:\n",
    "    def intro1(self):\n",
    "        print(\"I am from Parent 1 Class\")\n",
    "class Parent2:\n",
    "    def intro2(self):\n",
    "        print(\"I am from Parent 2 Class\")\n",
    "\n",
    "class Child(Parent1 , Parent2):\n",
    "    def intro3(self):\n",
    "        print(\"I am from Child Class\")\n",
    "\n",
    "child_ob = Child()\n",
    "child_ob.intro1()\n",
    "child_ob.intro2()\n",
    "child_ob.intro3()"
   ]
  },
  {
   "cell_type": "markdown",
   "metadata": {},
   "source": [
    "# Using concept of Multiple Inheritance Perform following Tasks\n",
    "Task (a) Create a class for representing family with Parents from two seperate classes (make one Parent class from Father, other from Mother and create their child) and print them.\n",
    "\n",
    "Task (b) Create a class for computer fighter game in which we have Class Computer_Player using two or three seperate Classes (boxer class, judo class, kickboxing class then create a child) and print them.\n",
    "\n",
    "Task (c) Create a class representing RGB color using three different Class Red, Green and Blue(create some objects which have differnt RGB values) and print them."
   ]
  },
  {
   "cell_type": "code",
   "execution_count": 13,
   "metadata": {},
   "outputs": [
    {
     "name": "stdout",
     "output_type": "stream",
     "text": [
      "i am father\n",
      "im mother\n",
      "i am child\n"
     ]
    }
   ],
   "source": [
    "class father:\n",
    "    def intro1(self):\n",
    "        print(\"i am father\")\n",
    "class mother:\n",
    "    def intro2(self):\n",
    "        print(\"im mother\")\n",
    "class child(father,mother):\n",
    "    def intro3(self):\n",
    "        print(\"i am child\")\n",
    "child_ob=child()\n",
    "child_ob.intro1()\n",
    "child_ob.intro2()\n",
    "child_ob.intro3()"
   ]
  },
  {
   "cell_type": "code",
   "execution_count": null,
   "metadata": {},
   "outputs": [],
   "source": []
  },
  {
   "cell_type": "code",
   "execution_count": null,
   "metadata": {},
   "outputs": [],
   "source": []
  }
 ],
 "metadata": {
  "kernelspec": {
   "display_name": "Python 3",
   "language": "python",
   "name": "python3"
  },
  "language_info": {
   "codemirror_mode": {
    "name": "ipython",
    "version": 3
   },
   "file_extension": ".py",
   "mimetype": "text/x-python",
   "name": "python",
   "nbconvert_exporter": "python",
   "pygments_lexer": "ipython3",
   "version": "3.7.3"
  }
 },
 "nbformat": 4,
 "nbformat_minor": 4
}
