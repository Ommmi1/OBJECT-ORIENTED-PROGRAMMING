{
 "cells": [
  {
   "cell_type": "code",
   "execution_count": 4,
   "metadata": {},
   "outputs": [
    {
     "name": "stdout",
     "output_type": "stream",
     "text": [
      "BOOKED YOUR SEAT FOR SAUDIA ARABIA\n",
      "BOOKED 30 SEATS FOR THE CURRENT FLIGHT Emirates\n",
      "I WENT TO SAUDIA ARAB IN BUSINESS CLASS\n"
     ]
    }
   ],
   "source": [
    "class AirTravellers:\n",
    "    def Trip(self,name):\n",
    "        self.name=name\n",
    "        print(\"BOOKED YOUR SEAT FOR\",self.name)\n",
    "\n",
    "class Types_Of_Airlines:\n",
    "    def Visits(self,seats,name):\n",
    "        self.seats=seats\n",
    "        self.name=name\n",
    "        print(\"BOOKED\",self.seats,\"SEATS FOR THE CURRENT FLIGHT\",self.name)\n",
    "\n",
    "class Enterprises(AirTravellers,Types_Of_Airlines):\n",
    "    def Flight(self,whereto):\n",
    "        self.whereto=whereto\n",
    "        print(\"I WENT TO\",self.whereto,\"IN BUSINESS CLASS\")        \n",
    "obj=Enterprises()\n",
    "obj.Trip(\"SAUDIA ARABIA\")\n",
    "obj.Visits(30,\"Emirates\")\n",
    "obj.Flight(\"SAUDIA ARAB\")"
   ]
  },
  {
   "cell_type": "code",
   "execution_count": 9,
   "metadata": {},
   "outputs": [
    {
     "name": "stdout",
     "output_type": "stream",
     "text": [
      "Kids are safe due to their wide size umbrella in this rainy_season\n",
      "These large-size Pink_umbrellas printed with flowers are used for ladies available for snowy_season\n",
      "These GREEN UMBRELLAS are used for SUN PROTECTION\n"
     ]
    }
   ],
   "source": [
    "class Types_Of_Umbrella:\n",
    "    def __init__(self,type,use,size):\n",
    "        self.type=type\n",
    "        self.use=use\n",
    "        self.size=size\n",
    "        \n",
    "    def rain(self):\n",
    "        print(self.type,\"are safe due to their\",self.use,\"size umbrella in this\",self.size)\n",
    "class Female_umbrella(Types_Of_Umbrella):\n",
    "    def __init__(self,type,color,print_1,use,size):\n",
    "        Types_Of_Umbrella.__init__(self,type,use,size)\n",
    "        self.color=color\n",
    "        self.print_1=print_1\n",
    "        \n",
    "    def season(self):\n",
    "        print(\"These\",self.size,self.type,\"printed with\",self.color,\"are used for\",self.use,\"available for\",self.print_1)\n",
    "\n",
    "\n",
    "class foldable_umbrellas(Female_umbrella,Types_Of_Umbrella):\n",
    "    def __init__(self,use,color,print,size,type):\n",
    "        Female_umbrella.__init__(self,color,print,size,use,type)\n",
    "        \n",
    "    def purpose(self):\n",
    "        print(\"These\",self.use,\"are used for\",self.type)\n",
    "        \n",
    "obj=Types_Of_Umbrella(\"Kids\",\"wide\",\"rainy_season\")\n",
    "obj.rain()\n",
    "\n",
    "obj1=Female_umbrella(\"Pink_umbrellas\",\"flowers\",\"snowy_season\",\"ladies\",\"large-size\")\n",
    "obj1.season()\n",
    "\n",
    "obj2=foldable_umbrellas(\"GREEN UMBRELLAS\",\"SUN PROTECTION\",\"block_print_umbrella\",\"large\",\"gents\")\n",
    "obj2.purpose()\n"
   ]
  }
 ],
 "metadata": {
  "kernelspec": {
   "display_name": "Python 3",
   "language": "python",
   "name": "python3"
  },
  "language_info": {
   "codemirror_mode": {
    "name": "ipython",
    "version": 3
   },
   "file_extension": ".py",
   "mimetype": "text/x-python",
   "name": "python",
   "nbconvert_exporter": "python",
   "pygments_lexer": "ipython3",
   "version": "3.7.3"
  }
 },
 "nbformat": 4,
 "nbformat_minor": 2
}
