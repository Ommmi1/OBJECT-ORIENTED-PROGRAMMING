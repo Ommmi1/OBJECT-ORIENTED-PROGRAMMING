{
 "cells": [
  {
   "cell_type": "markdown",
   "metadata": {},
   "source": [
    "# Practice With Foundation Concepts"
   ]
  },
  {
   "cell_type": "markdown",
   "metadata": {},
   "source": [
    "## How we Analyze Real World Problems and Convert it into OOPs Program"
   ]
  },
  {
   "cell_type": "markdown",
   "metadata": {},
   "source": [
    "\n",
    "<br>• Understand how real-world objects can become a part of fundamental elements in the code\n",
    "<br>• Recognize objects from nouns\n",
    "<br>• Generate blueprints for objects and understand classes\n",
    "<br>• Recognize attributes to generate fields\n",
    "<br>• Recognize actions from verbs to generate methods\n",
    "<br>• Work with UML diagrams and translate them into object-oriented code\n",
    "<br>• Organize blueprints to generate different classes\n",
    "<br>• Identify the object-oriented approaches in Python, JavaScript, and C#"
   ]
  },
  {
   "cell_type": "markdown",
   "metadata": {},
   "source": [
    "Let's imagine, we have to develop a new simple application, and we receive a\n",
    "description with the requirements. The application must allow users to calculate \n",
    "the areas and perimeters of squares, rectangles, circles, and ellipses."
   ]
  },
  {
   "cell_type": "markdown",
   "metadata": {},
   "source": [
    "### Recognizing objects from nouns"
   ]
  },
  {
   "cell_type": "markdown",
   "metadata": {},
   "source": [
    "For example, the following seven functions would\n",
    "do the job:\n",
    "<br>\n",
    "•\n",
    "<b>calculateSquareArea:</b> This receives the parameters of the square and\n",
    "returns the value of the calculated area for the shape\n",
    "<br>\n",
    "•\n",
    "<b>calculateRectangleArea:</b> This receives the parameters of the rectangle and\n",
    "returns the value of the calculated area for the shape\n",
    "<br>\n",
    "•\n",
    "<b>calculateCircleArea:</b> This receives the parameters of the circle and returns\n",
    "the value of the calculated area for the shape\n",
    "<br>\n",
    "•\n",
    "<b>calculateEllipseArea:</b> This receives the parameters of the ellipse and \n",
    "returns the value of the calculated area for the shape\n",
    "<br>\n",
    "•\n",
    "<b>calculateSquarePerimeter:</b> This receives the parameters of the square and \n",
    "returns the value of the calculated perimeter for the shape\n",
    "<br>\n",
    "•\n",
    "<b>calculateRectanglePerimeter:</b> This receives the parameters of the \n",
    "rectangle and returns the value of the calculated perimeter for the shape\n",
    "<br>\n",
    "•\n",
    "<b>calculateCirclePerimeter:</b> This receives the parameters of the circle and \n",
    "returns the value of the calculated perimeter for the shape\n"
   ]
  },
  {
   "cell_type": "markdown",
   "metadata": {},
   "source": [
    "Let's recognize the real-world objects from the application's requirements. It is necessary\n",
    "to calculate the areas and perimeters of four elements, that is, four nouns in the\n",
    "requirements that represent real-life objects:\n",
    "<br>• <b>Square</b>\n",
    "<br>• <b>Rectangle</b>\n",
    "<br>• <b>Circle</b>\n",
    "<br>• <b>Ellipse</b>"
   ]
  },
  {
   "cell_type": "markdown",
   "metadata": {},
   "source": [
    "We can design our application by following an object-oriented paradigm. Instead of \n",
    "creating a set of functions that perform the required tasks, we can create software\n",
    "objects that represent the state and behavior of a square, rectangle, circle, and an\n",
    "ellipse. This way, the different objects mimic the real-world shapes. We can work\n",
    "with the objects to specify the different attributes required to calculate their areas\n",
    "and their perimeters."
   ]
  },
  {
   "cell_type": "markdown",
   "metadata": {},
   "source": [
    "Now, let's move to the real world and think about the four shapes. Imagine that you\n",
    "have to draw the four shapes on paper and calculate both their areas and perimeters.\n",
    "What information do you require for each of the shapes? Think about this, and then,\n",
    "take a look at the following table that summarizes the data required for each shape:"
   ]
  },
  {
   "cell_type": "markdown",
   "metadata": {},
   "source": [
    "<img src =\"table.jpg\" />"
   ]
  },
  {
   "cell_type": "markdown",
   "metadata": {},
   "source": [
    "Analyze the above table and draw diagrams"
   ]
  },
  {
   "cell_type": "markdown",
   "metadata": {},
   "source": [
    "<img src =\"analyze.jpg\"/>"
   ]
  },
  {
   "cell_type": "markdown",
   "metadata": {},
   "source": [
    "### Generating Blue Prints"
   ]
  },
  {
   "cell_type": "markdown",
   "metadata": {},
   "source": [
    "In object-oriented programming, a class is a blueprint or a template definition \n",
    "from which the objects are created. Classes are models that define the state and\n",
    "behavior of an object. After defining a class that defines the state and behavior \n",
    "of a rectangle, we can use it to generate objects that represent the state and \n",
    "behavior of each real-world rectangle."
   ]
  },
  {
   "cell_type": "markdown",
   "metadata": {},
   "source": [
    "The following image shows four rectangle instances drawn, with their widths and\n",
    "heights specified: Rectangle #1, Rectangle #2, Rectangle #3, and Rectangle #4. We\n",
    "can use a\n",
    "rectangle class as a blueprint to generate the four different rectangle\n",
    "instances. It is very important to understand the difference between a class and\n",
    "the objects or instances generated through its usage. Object-oriented programming\n",
    "allows us to discover the blueprint we used to generate a specific object. Thus, we \n",
    "are able to infer that each object is an instance of the\n",
    "rectangle class."
   ]
  },
  {
   "cell_type": "markdown",
   "metadata": {},
   "source": [
    "<img src =\"rect.jpg\" />"
   ]
  },
  {
   "cell_type": "markdown",
   "metadata": {},
   "source": [
    "We recognized four completely different real-world objects from the application's\n",
    "requirements. We need classes to create the objects, and therefore, we require the\n",
    "following four classes:<br>\n",
    "\n",
    "<br><b>• Square</b>\n",
    "<br><b>• Rectangle</b>\n",
    "<br><b>• Circle</b>\n",
    "<br><b>• Ellipse</b>"
   ]
  },
  {
   "cell_type": "markdown",
   "metadata": {},
   "source": [
    "### Recognizing attributes/fields\n"
   ]
  },
  {
   "cell_type": "markdown",
   "metadata": {},
   "source": [
    "We already know the information required for each of the shapes. Now, it is time\n",
    "to design the classes to include the necessary attributes that provide the required\n",
    "data to each instance. In other words, we have to make sure that each class has the\n",
    "necessary variables that encapsulate all the data required by the objects to perform\n",
    "all the tasks.\n",
    "Let's start with the Square class. It is necessary to know the length of side for each\n",
    "instance of this class, that is, for each\n",
    "square object. Thus, we need an encapsulated\n",
    "variable that allows each instance of this class to specify the value of the length of side."
   ]
  },
  {
   "cell_type": "markdown",
   "metadata": {},
   "source": [
    "The following table summarizes the floating-point attributes defined for each class:"
   ]
  },
  {
   "cell_type": "markdown",
   "metadata": {},
   "source": [
    "<img src =\"attrib_table.jpg\" />"
   ]
  },
  {
   "cell_type": "code",
   "execution_count": null,
   "metadata": {},
   "outputs": [],
   "source": []
  },
  {
   "cell_type": "markdown",
   "metadata": {},
   "source": [
    "The following image shows a UML (Unified Modeling Language) diagram with the\n",
    "four classes and their attributes:"
   ]
  },
  {
   "cell_type": "markdown",
   "metadata": {},
   "source": [
    "<img src =\"classes1.jpg\" />"
   ]
  },
  {
   "cell_type": "code",
   "execution_count": null,
   "metadata": {},
   "outputs": [],
   "source": []
  },
  {
   "cell_type": "markdown",
   "metadata": {},
   "source": [
    "### Recognizing actions from verbs – methods"
   ]
  },
  {
   "cell_type": "markdown",
   "metadata": {},
   "source": [
    "So far, we have designed four classes and identified the necessary attributes for \n",
    "each of them. Now, it is time to add the necessary pieces of code that work with \n",
    "the previously defined attributes to perform all the tasks. In other words, we have\n",
    "to make sure that each class has the necessary encapsulated functions that process\n",
    "the attribute values specified in the objects to perform all the tasks."
   ]
  },
  {
   "cell_type": "markdown",
   "metadata": {},
   "source": [
    "Let's start with the Square class. The application's requirements specified that we\n",
    "have to calculate the areas and perimeters of squares. Thus, we need pieces of code\n",
    "that allow each instance of this class to use the LengthOfSide value to calculate the\n",
    "area and the perimeter."
   ]
  },
  {
   "cell_type": "markdown",
   "metadata": {},
   "source": [
    "## Square Class"
   ]
  },
  {
   "cell_type": "markdown",
   "metadata": {},
   "source": [
    "The Square class defines the following two parameterless methods. Notice that we\n",
    "declare the code for both methods in the definition of the Square class:\n",
    "<br><b>•\n",
    "CalculateArea:</b> This returns a floating-point value with the calculated area\n",
    "for the square. The method returns the square of the LengthOfSide attribute\n",
    "value (LengthOfSide\n",
    " or LengthOfSide ^ 2).\n",
    "<br><b>•\n",
    "CalculatePerimeter:</b> This returns a floating-point value with the calculated \n",
    "2\n",
    "perimeter for the square. The method returns the LengthOfSide attribute\n",
    "value multiplied by\n",
    "4 (4 * LengthOfSide)."
   ]
  },
  {
   "cell_type": "markdown",
   "metadata": {},
   "source": [
    "## Rectangle Class"
   ]
  },
  {
   "cell_type": "markdown",
   "metadata": {},
   "source": [
    "Now, let's move to the Rectangle class. We need exactly two methods with the\n",
    "same names specified for the Square class. However, they have to calculate the\n",
    "results in a different way.\n",
    "<br><b>•\n",
    "CalculateArea:</b> This returns a floating-point value with the calculated area\n",
    "for the rectangle. The method returns the result of the multiplication of the \n",
    "Width attribute value by the Height attribute value (Width * Height).\n",
    "<br><b>•\n",
    "CalculatePerimeter:</b> This returns a floating-point value with the  \n",
    "calculated perimeter for the rectangle. The method returns the sum \n",
    "of two times the Width attribute value and two times the Height \n",
    "attribute value (2 * Width + 2 * Height)."
   ]
  },
  {
   "cell_type": "markdown",
   "metadata": {},
   "source": [
    "## Circle Class"
   ]
  },
  {
   "cell_type": "markdown",
   "metadata": {},
   "source": [
    "The Circle class also needs two methods with the same names. The two methods\n",
    "are explained as follows:\n",
    "<br><b>•\n",
    "CalculateArea:</b> This returns a floating-point value with the calculated area\n",
    "for the circle. The method returns the result of the multiplication of π by the\n",
    "square of the\n",
    "Radius attribute value (π * Radius\n",
    " or π * (Radius ^ 2)).\n",
    "<br><b>•\n",
    "CalculatePerimeter:</b> This returns a floating-point value with the calculated \n",
    "perimeter for the circle. The method returns the result of the multiplication of\n",
    "π by two times the\n",
    "Radius attribute value."
   ]
  },
  {
   "cell_type": "markdown",
   "metadata": {},
   "source": [
    "## Eclipse Class"
   ]
  },
  {
   "cell_type": "markdown",
   "metadata": {},
   "source": [
    "Finally, the Ellipse class defines two methods with the same names but with \n",
    "different code and a specific problem with the perimeter. The following are the \n",
    "two methods:\n",
    "<br><b>•\n",
    "CalculateArea:</b> This returns a floating-point value with the calculated area\n",
    "for the ellipse. The method returns the result of the multiplication of π by the\n",
    "square of the Radius attribute value (π * SemiMajorAxis * SemiMinorAxis).\n",
    "<br><b>\n",
    "• CalculatePerimeter:</b> This returns a floating-point value with the calculated\n",
    "approximation of the perimeter for the ellipse. Perimeters are very difficult\n",
    "to calculate for ellipses, and therefore, there are many formulas that provide\n",
    "approximations. An exact formula needs an infinite series of calculations.\n",
    "Thus, let's consider that the method returns the result of a formula that isn't\n",
    "very accurate and that we will have to improve on it later. The method returns\n",
    "the result of 2 * π * SquareRoot ((SemiMajorAxis^2 + SemiMinorAxis^2) / 2).\n"
   ]
  },
  {
   "cell_type": "markdown",
   "metadata": {},
   "source": []
  },
  {
   "cell_type": "markdown",
   "metadata": {},
   "source": [
    "The following figure shows an updated version of the UML diagram with the four \n",
    "classes, their attributes, and their methods:"
   ]
  },
  {
   "cell_type": "markdown",
   "metadata": {},
   "source": [
    "<img src =\"classes2.jpg\" />"
   ]
  },
  {
   "cell_type": "code",
   "execution_count": null,
   "metadata": {},
   "outputs": [],
   "source": []
  },
  {
   "cell_type": "markdown",
   "metadata": {},
   "source": [
    "The following diagram shows an updated version of the UML diagram with the\n",
    "abstract class, its four subclasses, their attributes, and their methods:"
   ]
  },
  {
   "cell_type": "markdown",
   "metadata": {},
   "source": [
    "<img src =\"final.jpg\" />"
   ]
  },
  {
   "cell_type": "code",
   "execution_count": null,
   "metadata": {},
   "outputs": [],
   "source": []
  },
  {
   "cell_type": "markdown",
   "metadata": {},
   "source": [
    "### Task"
   ]
  },
  {
   "cell_type": "markdown",
   "metadata": {},
   "source": [
    "1. Construct classes and its UML diagram for differnet Types of Engines. Use methods which shows how they interact. Do coding at the end."
   ]
  },
  {
   "cell_type": "markdown",
   "metadata": {},
   "source": [
    "2. Construct classes for a word document and differnt types of methods which we use in MSWORD when working with documents. Make UML and coding both."
   ]
  },
  {
   "cell_type": "markdown",
   "metadata": {},
   "source": [
    "3. Consider any real world problem, analyze it in detail. Extract the objects it can have, make a generlize class, add methods, Use UML diagram to show your concept and then do coding."
   ]
  }
 ],
 "metadata": {
  "kernelspec": {
   "display_name": "Python 3",
   "language": "python",
   "name": "python3"
  },
  "language_info": {
   "codemirror_mode": {
    "name": "ipython",
    "version": 3
   },
   "file_extension": ".py",
   "mimetype": "text/x-python",
   "name": "python",
   "nbconvert_exporter": "python",
   "pygments_lexer": "ipython3",
   "version": "3.7.3"
  }
 },
 "nbformat": 4,
 "nbformat_minor": 4
}
