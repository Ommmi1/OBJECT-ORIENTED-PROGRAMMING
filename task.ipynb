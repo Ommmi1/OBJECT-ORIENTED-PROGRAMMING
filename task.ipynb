{
 "cells": [
  {
   "cell_type": "code",
   "execution_count": 3,
   "metadata": {},
   "outputs": [
    {
     "name": "stdout",
     "output_type": "stream",
     "text": [
      "omer 4 computer science\n"
     ]
    }
   ],
   "source": [
    "class student:\n",
    "    def __init__(self,id,name,department):\n",
    "        self.id=id\n",
    "        self.name=name\n",
    "        self.department=department\n",
    "    def description(self):\n",
    "        print(self.name,self.id,self.department)\n",
    "object1=student(4,\"omer\",'computer science')\n",
    "object1.description()"
   ]
  }
 ],
 "metadata": {
  "kernelspec": {
   "display_name": "Python 3",
   "language": "python",
   "name": "python3"
  },
  "language_info": {
   "codemirror_mode": {
    "name": "ipython",
    "version": 3
   },
   "file_extension": ".py",
   "mimetype": "text/x-python",
   "name": "python",
   "nbconvert_exporter": "python",
   "pygments_lexer": "ipython3",
   "version": "3.7.3"
  }
 },
 "nbformat": 4,
 "nbformat_minor": 2
}
