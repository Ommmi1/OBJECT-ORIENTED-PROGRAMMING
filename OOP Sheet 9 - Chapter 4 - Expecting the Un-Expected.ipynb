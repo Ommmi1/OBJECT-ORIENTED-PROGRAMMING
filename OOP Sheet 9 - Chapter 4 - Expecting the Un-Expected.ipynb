{
 "cells": [
  {
   "cell_type": "markdown",
   "metadata": {},
   "source": [
    "# Chapter 4: Expecting the Unexpected"
   ]
  },
  {
   "cell_type": "markdown",
   "metadata": {},
   "source": [
    "Programs are very fragile. It would be ideal if code always returned a valid result,\n",
    "but sometimes a valid result can't be calculated. For example, it's not possible to\n",
    "divide by zero, or to access the eighth item in a five-item list."
   ]
  },
  {
   "cell_type": "markdown",
   "metadata": {},
   "source": [
    "In particular, we will cover:\n",
    "\n",
    "<br>• How to cause an exception to occur\n",
    "<br>• How to recover when an exception has occurred\n",
    "<br>• How to handle different exception types in different ways\n",
    "<br>• Cleaning up when an exception has occurred\n",
    "<br>• Creating new types of exception\n",
    "<br>• Using the exception syntax for flow control"
   ]
  },
  {
   "cell_type": "markdown",
   "metadata": {},
   "source": [
    "<img src =\"Exceptions.jpg\" />"
   ]
  },
  {
   "cell_type": "markdown",
   "metadata": {},
   "source": [
    "## Build in Exceptions"
   ]
  },
  {
   "cell_type": "markdown",
   "metadata": {},
   "source": [
    "<img src =\"error2.png\" />"
   ]
  },
  {
   "cell_type": "markdown",
   "metadata": {},
   "source": [
    "### Syntax Error"
   ]
  },
  {
   "cell_type": "code",
   "execution_count": null,
   "metadata": {},
   "outputs": [],
   "source": [
    "print \"Assalam o Alekum\"\n"
   ]
  },
  {
   "cell_type": "markdown",
   "metadata": {},
   "source": [
    "### Zero Division Error"
   ]
  },
  {
   "cell_type": "code",
   "execution_count": null,
   "metadata": {},
   "outputs": [],
   "source": [
    "our_data = 10\n",
    "print(our_data/0)\n",
    "\n",
    "print (\"Success, no error!\")\n"
   ]
  },
  {
   "cell_type": "markdown",
   "metadata": {},
   "source": [
    "### IndexError"
   ]
  },
  {
   "cell_type": "code",
   "execution_count": null,
   "metadata": {},
   "outputs": [],
   "source": [
    "my_lst =[\"My\", \"Name\", \"is\"]\n",
    "print(len(my_lst))\n",
    "print(my_lst[3])\n"
   ]
  },
  {
   "cell_type": "markdown",
   "metadata": {},
   "source": [
    "### Type Error"
   ]
  },
  {
   "cell_type": "code",
   "execution_count": null,
   "metadata": {},
   "outputs": [],
   "source": [
    "my_lst + 5\n",
    "print(len(my_lst))"
   ]
  },
  {
   "cell_type": "code",
   "execution_count": null,
   "metadata": {},
   "outputs": [],
   "source": [
    "\n",
    "my_lst +\"Asst. Prof.\"\n",
    "print(len(my_lst))"
   ]
  },
  {
   "cell_type": "code",
   "execution_count": null,
   "metadata": {},
   "outputs": [],
   "source": [
    "a = 1948\n",
    "b = 'Pakistan'\n",
    "print(a + b)"
   ]
  },
  {
   "cell_type": "markdown",
   "metadata": {},
   "source": [
    "### Keyboard Interrupt Error"
   ]
  },
  {
   "cell_type": "code",
   "execution_count": null,
   "metadata": {},
   "outputs": [],
   "source": [
    "try:\n",
    "    my_input = input()\n",
    "    print ('Press Ctrl+C or Interrupt the Kernel:')\n",
    "    \n",
    "except KeyboardInterrupt:\n",
    "    print ('Caught KeyboardInterrupt')\n",
    "    \n",
    "else:\n",
    "    print ('No exception occurred')"
   ]
  },
  {
   "cell_type": "markdown",
   "metadata": {},
   "source": [
    "## Standard Error"
   ]
  },
  {
   "cell_type": "markdown",
   "metadata": {},
   "source": [
    "###  Arithmetic Error\n",
    "#### 1. Zero Division Error\n",
    "#### 2. OverFlow Error\n",
    "#### 3. Floating Point Error"
   ]
  },
  {
   "cell_type": "code",
   "execution_count": null,
   "metadata": {},
   "outputs": [],
   "source": [
    "a=100\n",
    "try:  \n",
    "    arc = 100 / 0\n",
    "    print (a)\n",
    "  \n",
    "except ZeroDivisionError:  \n",
    "        print (\"Zero Division Exception Raised.\" )\n",
    "\n",
    "else:  \n",
    "    print (\"Success, no error!\")\n",
    "    \n",
    "\n",
    "print (\"Program terminated!\")\n"
   ]
  },
  {
   "cell_type": "code",
   "execution_count": null,
   "metadata": {},
   "outputs": [],
   "source": [
    "try:  \n",
    "    import math\n",
    "    print(math.exp(1000))\n",
    "except OverflowError:  \n",
    "        print (\"OverFlow Exception Raised.\")\n",
    "else:  \n",
    "    print (\"Success, no error!\")"
   ]
  },
  {
   "cell_type": "markdown",
   "metadata": {},
   "source": [
    "### Assertion Error"
   ]
  },
  {
   "cell_type": "code",
   "execution_count": null,
   "metadata": {},
   "outputs": [],
   "source": [
    "try:  \n",
    "    my_var1 = 100\n",
    "    my_var2 = \"Pakistan\"\n",
    "    my_var3 = \"Pakistan\"\n",
    "    \n",
    "    assert my_var1 == my_var2\n",
    "except AssertionError:  \n",
    "        print (\"Assertion Exception Raised.\")\n",
    "else:  \n",
    "    print (\"Success, no error!\")"
   ]
  },
  {
   "cell_type": "markdown",
   "metadata": {},
   "source": [
    "### Attribute Error"
   ]
  },
  {
   "cell_type": "code",
   "execution_count": null,
   "metadata": {},
   "outputs": [],
   "source": [
    "class UIT(object):\n",
    "    a = 2\n",
    "    print (a)\n",
    "\n",
    "try:\n",
    "    uit1 = UIT()\n",
    "    print (object.attribute)\n",
    "except AttributeError:\n",
    "    print (\"Attribute Exception Raised.\")"
   ]
  },
  {
   "cell_type": "markdown",
   "metadata": {},
   "source": [
    "### Import Error"
   ]
  },
  {
   "cell_type": "markdown",
   "metadata": {},
   "source": [
    "import numpi import piplot"
   ]
  },
  {
   "cell_type": "markdown",
   "metadata": {},
   "source": [
    "### Lookup Error"
   ]
  },
  {
   "cell_type": "markdown",
   "metadata": {},
   "source": [
    "#### IndexError\n",
    "#### KeyError"
   ]
  },
  {
   "cell_type": "markdown",
   "metadata": {},
   "source": [
    "If a key you are trying to access is not found in the dictionary, a key error exception is raised."
   ]
  },
  {
   "cell_type": "code",
   "execution_count": null,
   "metadata": {},
   "outputs": [],
   "source": [
    "try:  \n",
    "    var_a = {0:'a', 3:'b', 2:'c'}  \n",
    "    print (var_a[3])\n",
    "    \n",
    "except LookupError:  \n",
    "    print (\"Key Error Exception Raised.\")\n",
    "    \n",
    "else:  \n",
    "    print (\"Success, no error!\")"
   ]
  },
  {
   "cell_type": "markdown",
   "metadata": {},
   "source": [
    "When you are trying to access an index (sequence) of a list that does not exist in that list or is out of range of that list, an index error is raised."
   ]
  },
  {
   "cell_type": "code",
   "execution_count": 8,
   "metadata": {},
   "outputs": [
    {
     "name": "stdout",
     "output_type": "stream",
     "text": [
      "Index Error Exception Raised, list index out of range\n"
     ]
    }
   ],
   "source": [
    "try:  \n",
    "    my_var = ['a', 'b', 'c']  \n",
    "    print (my_var[3]) \n",
    "    \n",
    "except LookupError:  \n",
    "    print (\"Index Error Exception Raised, list index out of range\")\n",
    "    \n",
    "else:  \n",
    "    print (\"Success, no error!\")"
   ]
  },
  {
   "cell_type": "markdown",
   "metadata": {},
   "source": [
    "### Name Error"
   ]
  },
  {
   "cell_type": "code",
   "execution_count": 10,
   "metadata": {},
   "outputs": [
    {
     "name": "stdout",
     "output_type": "stream",
     "text": [
      "NameError: name variable name is not defined\n"
     ]
    }
   ],
   "source": [
    "my_answer = [\"abcd\"]\n",
    "try:\n",
    "    print (my_answe1)\n",
    "except NameError:  \n",
    "    print (\"NameError: name variable name is not defined\")\n",
    "else:  \n",
    "    print (\"Success, no error!\")"
   ]
  },
  {
   "cell_type": "markdown",
   "metadata": {},
   "source": [
    "## Runtime Error"
   ]
  },
  {
   "cell_type": "markdown",
   "metadata": {},
   "source": [
    "### Not Implemented Error"
   ]
  },
  {
   "cell_type": "markdown",
   "metadata": {},
   "source": [
    "Runtime Error acts as a base class for the NotImplemented Error. Abstract methods in user-defined classes should raise this exception when the derived classes override the method."
   ]
  },
  {
   "cell_type": "code",
   "execution_count": 1,
   "metadata": {},
   "outputs": [
    {
     "name": "stdout",
     "output_type": "stream",
     "text": [
      "SubClass doing something!\n"
     ]
    },
    {
     "ename": "NotImplementedError",
     "evalue": "BaseClass.do_something",
     "output_type": "error",
     "traceback": [
      "\u001b[1;31m---------------------------------------------------------------------------\u001b[0m",
      "\u001b[1;31mNotImplementedError\u001b[0m                       Traceback (most recent call last)",
      "\u001b[1;32m<ipython-input-1-c52b75603a1e>\u001b[0m in \u001b[0;36m<module>\u001b[1;34m\u001b[0m\n\u001b[0;32m     14\u001b[0m \u001b[1;33m\u001b[0m\u001b[0m\n\u001b[0;32m     15\u001b[0m \u001b[0mSubClass\u001b[0m\u001b[1;33m(\u001b[0m\u001b[1;33m)\u001b[0m\u001b[1;33m.\u001b[0m\u001b[0mdo_something\u001b[0m\u001b[1;33m(\u001b[0m\u001b[1;33m)\u001b[0m\u001b[1;33m\u001b[0m\u001b[1;33m\u001b[0m\u001b[0m\n\u001b[1;32m---> 16\u001b[1;33m \u001b[0mBaseClass\u001b[0m\u001b[1;33m(\u001b[0m\u001b[1;33m)\u001b[0m\u001b[1;33m.\u001b[0m\u001b[0mdo_something\u001b[0m\u001b[1;33m(\u001b[0m\u001b[1;33m)\u001b[0m\u001b[1;33m\u001b[0m\u001b[1;33m\u001b[0m\u001b[0m\n\u001b[0m",
      "\u001b[1;32m<ipython-input-1-c52b75603a1e>\u001b[0m in \u001b[0;36mdo_something\u001b[1;34m(self)\u001b[0m\n\u001b[0;32m      5\u001b[0m     \u001b[1;32mdef\u001b[0m \u001b[0mdo_something\u001b[0m\u001b[1;33m(\u001b[0m\u001b[0mself\u001b[0m\u001b[1;33m)\u001b[0m\u001b[1;33m:\u001b[0m\u001b[1;33m\u001b[0m\u001b[1;33m\u001b[0m\u001b[0m\n\u001b[0;32m      6\u001b[0m         \u001b[1;34m\"\"\"The interface, not implemented\"\"\"\u001b[0m\u001b[1;33m\u001b[0m\u001b[1;33m\u001b[0m\u001b[0m\n\u001b[1;32m----> 7\u001b[1;33m         \u001b[1;32mraise\u001b[0m \u001b[0mNotImplementedError\u001b[0m\u001b[1;33m(\u001b[0m\u001b[0mself\u001b[0m\u001b[1;33m.\u001b[0m\u001b[0m__class__\u001b[0m\u001b[1;33m.\u001b[0m\u001b[0m__name__\u001b[0m \u001b[1;33m+\u001b[0m \u001b[1;34m'.do_something'\u001b[0m\u001b[1;33m)\u001b[0m\u001b[1;33m\u001b[0m\u001b[1;33m\u001b[0m\u001b[0m\n\u001b[0m\u001b[0;32m      8\u001b[0m \u001b[1;33m\u001b[0m\u001b[0m\n\u001b[0;32m      9\u001b[0m \u001b[1;32mclass\u001b[0m \u001b[0mSubClass\u001b[0m\u001b[1;33m(\u001b[0m\u001b[0mBaseClass\u001b[0m\u001b[1;33m)\u001b[0m\u001b[1;33m:\u001b[0m\u001b[1;33m\u001b[0m\u001b[1;33m\u001b[0m\u001b[0m\n",
      "\u001b[1;31mNotImplementedError\u001b[0m: BaseClass.do_something"
     ]
    }
   ],
   "source": [
    "class BaseClass(object):\n",
    "    \"\"\"Defines the interface\"\"\"\n",
    "    def __init__(self):\n",
    "        super(BaseClass, self).__init__()\n",
    "    def do_something(self):\n",
    "        \"\"\"The interface, not implemented\"\"\"\n",
    "        raise NotImplementedError(self.__class__.__name__ + '.do_something')\n",
    "\n",
    "class SubClass(BaseClass):\n",
    "    \"\"\"Implementes the interface\"\"\"\n",
    "    def do_something(self):\n",
    "        \"\"\"really does something\"\"\"\n",
    "        print (self.__class__.__name__ + ' doing something!')\n",
    "\n",
    "SubClass().do_something()\n",
    "BaseClass().do_something()"
   ]
  },
  {
   "cell_type": "markdown",
   "metadata": {},
   "source": [
    "### Value Error"
   ]
  },
  {
   "cell_type": "code",
   "execution_count": 14,
   "metadata": {},
   "outputs": [
    {
     "name": "stdout",
     "output_type": "stream",
     "text": [
      "ValueError: could not convert string to int: 'My Name is'\n"
     ]
    }
   ],
   "source": [
    "try:\n",
    "    print (int('My Name is omer'))\n",
    "    \n",
    "except ValueError:\n",
    "    print ('ValueError: could not convert string to int: \\'My Name is\\'')\n",
    "    \n",
    "else:\n",
    "    print ('Success, no error!')"
   ]
  },
  {
   "cell_type": "code",
   "execution_count": 15,
   "metadata": {},
   "outputs": [
    {
     "name": "stdout",
     "output_type": "stream",
     "text": [
      "Faisal\n",
      "Success, no error!\n"
     ]
    }
   ],
   "source": [
    "try:\n",
    "    print (str('Faisal'))\n",
    "    \n",
    "except ValueError:\n",
    "    print ('ValueError: could not convert string to float: \\'My Name is\\'')\n",
    "    \n",
    "else:\n",
    "    print ('Success, no error!')"
   ]
  },
  {
   "cell_type": "markdown",
   "metadata": {},
   "source": [
    "### Raising Exceptions for a Predefined Condition"
   ]
  },
  {
   "cell_type": "markdown",
   "metadata": {},
   "source": [
    "Exceptions can also be raised if you want the code to behave within specific parameters. For example, if you want to limit the user-input to only positive integers, raise an exception."
   ]
  },
  {
   "cell_type": "code",
   "execution_count": null,
   "metadata": {},
   "outputs": [
    {
     "name": "stdout",
     "output_type": "stream",
     "text": [
      "insert child age between 1 to 10\n",
      "4\n",
      "user input: 4\n",
      "4\n",
      "user input: 4\n",
      "11\n",
      "please give required number\n",
      "-4\n",
      "please give required number\n"
     ]
    }
   ],
   "source": [
    "print(\"insert child age between 1 to 10\")\n",
    "while True:\n",
    "        try:\n",
    "            user = int(input())\n",
    "            if user < 0 or user > 10:\n",
    "                raise ValueError(\"please give required number\")\n",
    "            else:\n",
    "                print(\"user input: %s\" % user)\n",
    "        except ValueError as e:\n",
    "            print(e)\n",
    "            "
   ]
  },
  {
   "cell_type": "code",
   "execution_count": null,
   "metadata": {},
   "outputs": [],
   "source": []
  },
  {
   "cell_type": "code",
   "execution_count": null,
   "metadata": {},
   "outputs": [],
   "source": []
  }
 ],
 "metadata": {
  "kernelspec": {
   "display_name": "Python 3",
   "language": "python",
   "name": "python3"
  },
  "language_info": {
   "codemirror_mode": {
    "name": "ipython",
    "version": 3
   },
   "file_extension": ".py",
   "mimetype": "text/x-python",
   "name": "python",
   "nbconvert_exporter": "python",
   "pygments_lexer": "ipython3",
   "version": "3.7.3"
  }
 },
 "nbformat": 4,
 "nbformat_minor": 4
}
