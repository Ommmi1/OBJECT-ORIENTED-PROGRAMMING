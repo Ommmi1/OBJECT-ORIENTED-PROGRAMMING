{
 "cells": [
  {
   "cell_type": "markdown",
   "metadata": {},
   "source": [
    "# Chapter 3:"
   ]
  },
  {
   "cell_type": "markdown",
   "metadata": {},
   "source": [
    "# Polymorphism"
   ]
  },
  {
   "cell_type": "markdown",
   "metadata": {},
   "source": [
    "Polymorphism in python defines methods in the child class that have the same name as the methods in the parent class. In inheritance, the child class inherits the methods from the parent class. Also, it is possible to modify a method in a child class that it has inherited from the parent class.\n",
    "\n",
    "    Poly  = Many        \n",
    "    Morph = Forms"
   ]
  },
  {
   "cell_type": "markdown",
   "metadata": {},
   "source": [
    "## Method Overloading (Polymorphism)"
   ]
  },
  {
   "cell_type": "code",
   "execution_count": null,
   "metadata": {},
   "outputs": [],
   "source": [
    "class Student:\n",
    "    def __init__(self, marks1, marks2):\n",
    "        self.marks1 = marks1\n",
    "        self.marks2 = marks2\n",
    "        \n",
    "    def sum(self,x,y):\n",
    "        s = x+y\n",
    "        return s\n",
    "\n",
    "st1 = Student(4,8)\n",
    "st1.sum(st1.marks1, st1.marks2)"
   ]
  },
  {
   "cell_type": "code",
   "execution_count": null,
   "metadata": {},
   "outputs": [],
   "source": [
    "st1.sum(1, 2)"
   ]
  },
  {
   "cell_type": "code",
   "execution_count": null,
   "metadata": {},
   "outputs": [],
   "source": [
    "# if we want to add 3 numbers than\n",
    "\n",
    "class Student:\n",
    "    def __init__(self, marks1, marks2, marks3):\n",
    "        self.marks1 = marks1\n",
    "        self.marks2 = marks2\n",
    "        self.marks3 = marks3\n",
    "        \n",
    "    def sum(self,x,y,z):\n",
    "        s = x+y+z\n",
    "        return s\n",
    "\n",
    "st1 = Student(4,8,12)\n",
    "print(st1.sum(st1.marks1, st1.marks2, st1.marks3))\n"
   ]
  },
  {
   "cell_type": "code",
   "execution_count": null,
   "metadata": {},
   "outputs": [],
   "source": [
    "# In the method overloading, we use as follows\n",
    "\n",
    "class Student:\n",
    "        \n",
    "    def sum(self,x=None,y=None,z=None):\n",
    "        s = 0\n",
    "        \n",
    "        if x!=None and y!=None and z!=None:\n",
    "            s = x+y+z\n",
    "        elif x!=None and y!=None:\n",
    "            s = x+y\n",
    "        else:\n",
    "            s = x\n",
    "            \n",
    "        return s\n",
    "\n",
    "st1 = Student()"
   ]
  },
  {
   "cell_type": "code",
   "execution_count": null,
   "metadata": {},
   "outputs": [],
   "source": [
    "print(st1.sum(1,2,3))"
   ]
  },
  {
   "cell_type": "code",
   "execution_count": null,
   "metadata": {},
   "outputs": [],
   "source": [
    "print(st1.sum(1,2))"
   ]
  },
  {
   "cell_type": "code",
   "execution_count": null,
   "metadata": {},
   "outputs": [],
   "source": [
    "print(st1.sum(1))"
   ]
  },
  {
   "cell_type": "markdown",
   "metadata": {},
   "source": [
    "## Method Overriding (Polymorphism)"
   ]
  },
  {
   "cell_type": "code",
   "execution_count": null,
   "metadata": {},
   "outputs": [],
   "source": [
    "class A1:\n",
    "    def show(self):\n",
    "        print(\"This message is from show method in class A1\")\n",
    "\n",
    "class B1:\n",
    "    pass "
   ]
  },
  {
   "cell_type": "code",
   "execution_count": null,
   "metadata": {},
   "outputs": [],
   "source": [
    "ob_a1 = B1()\n",
    "ob_a1.show()"
   ]
  },
  {
   "cell_type": "code",
   "execution_count": null,
   "metadata": {},
   "outputs": [],
   "source": [
    "# if B1 inherits A1 than\n",
    "\n",
    "class A1:\n",
    "    def show(self):\n",
    "        print(\"This message is from show method in class A1\")\n",
    "\n",
    "class B1(A1):\n",
    "    pass \n",
    "\n",
    "ob_a1 = B1()\n",
    "ob_a1.show()\n"
   ]
  },
  {
   "cell_type": "code",
   "execution_count": null,
   "metadata": {},
   "outputs": [],
   "source": [
    "# The moment if we create show method inside class B1, it will overrides the method which is available in class A1\n",
    "\n",
    "class A1:\n",
    "    def show(self):\n",
    "        print(\"This message is from show method in class A1\")\n",
    "\n",
    "class B1(A1):\n",
    "    def show(self):\n",
    "        print(\"This message is from show method in class B1\")\n",
    "\n",
    "ob_a1 = B1()\n",
    "ob_a1.show()"
   ]
  }
 ],
 "metadata": {
  "kernelspec": {
   "display_name": "Python 3",
   "language": "python",
   "name": "python3"
  },
  "language_info": {
   "codemirror_mode": {
    "name": "ipython",
    "version": 3
   },
   "file_extension": ".py",
   "mimetype": "text/x-python",
   "name": "python",
   "nbconvert_exporter": "python",
   "pygments_lexer": "ipython3",
   "version": "3.7.3"
  }
 },
 "nbformat": 4,
 "nbformat_minor": 4
}
