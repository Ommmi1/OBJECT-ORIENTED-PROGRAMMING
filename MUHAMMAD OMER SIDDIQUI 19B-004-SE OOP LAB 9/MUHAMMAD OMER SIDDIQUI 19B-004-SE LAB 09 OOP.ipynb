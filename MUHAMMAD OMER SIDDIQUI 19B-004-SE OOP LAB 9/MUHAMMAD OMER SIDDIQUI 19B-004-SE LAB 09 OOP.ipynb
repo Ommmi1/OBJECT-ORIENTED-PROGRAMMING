{
 "cells": [
  {
   "cell_type": "code",
   "execution_count": 10,
   "metadata": {},
   "outputs": [
    {
     "name": "stdout",
     "output_type": "stream",
     "text": [
      "Sum =  13\n"
     ]
    }
   ],
   "source": [
    "class A:\n",
    "    def __init__(self,x):\n",
    "        self.x = x\n",
    "    def __add__(self,R):\n",
    "        r = self.x + R.y\n",
    "        return r\n",
    "class B:\n",
    "    def __init__(self,y):\n",
    "        self.y = y\n",
    "c1 = A(9)\n",
    "c2 = B(4)\n",
    "print(\"Sum = \", c1+c2)"
   ]
  },
  {
   "cell_type": "code",
   "execution_count": 11,
   "metadata": {},
   "outputs": [
    {
     "name": "stdout",
     "output_type": "stream",
     "text": [
      "Sum =  (17, 13)\n"
     ]
    }
   ],
   "source": [
    "class Complex:\n",
    "    def __init__(self, r, i):\n",
    "        self.real = r\n",
    "        self.img = i\n",
    "    def __add__(self, sec):\n",
    "        r = self.real + sec.real\n",
    "        i = self.img + sec.img\n",
    "        return (r,i)\n",
    "    def __str__(self):\n",
    "        return str(self.real)+' + '+str(self.img)+'i'\n",
    "c1 = Complex(10,5)\n",
    "c2 = Complex(7,8)\n",
    "print(\"Sum = \",c1+c2)"
   ]
  },
  {
   "cell_type": "code",
   "execution_count": 12,
   "metadata": {},
   "outputs": [
    {
     "name": "stdout",
     "output_type": "stream",
     "text": [
      "Sub = (11,1)\n"
     ]
    }
   ],
   "source": [
    "class Point:\n",
    "    def __init__(self, x=0, y=0):\n",
    "        self.x = x\n",
    "        self.y = y\n",
    "    def __str__(self):\n",
    "        return \"({0},{1})\".format(self.x, self.y)\n",
    "    def __sub__(self, other):\n",
    "        x = self.x - other.x\n",
    "        y = self.y - other.y\n",
    "        return Point(x, y)\n",
    "p1 = Point(15, 9)\n",
    "p2 = Point(4, 8)\n",
    "print(\"Sub =\",p1-p2)"
   ]
  },
  {
   "cell_type": "code",
   "execution_count": 8,
   "metadata": {},
   "outputs": [
    {
     "name": "stdout",
     "output_type": "stream",
     "text": [
      "Name: Apple\n",
      "Type: Fruit\n",
      "Color: Red\n",
      "Taste: Sour\n",
      "Name: Mango\n",
      "Type: Fruit\n",
      "Color: Yellow\n",
      "Taste: Yummy\n"
     ]
    }
   ],
   "source": [
    "from abc import ABC, abstractmethod \n",
    "class Fruit(ABC):\n",
    "    def name(self):\n",
    "        pass\n",
    "    def type(self): \n",
    "        pass \n",
    "    def color(self): \n",
    "        pass \n",
    "    def taste(Self): \n",
    "        pass \n",
    "class Apple(Fruit):\n",
    "    def name(self):\n",
    "        print(\"Name: Apple\")\n",
    "    def type(self): \n",
    "        print(\"Type: Fruit\") \n",
    "    def color(self): \n",
    "        print(\"Color: Red\") \n",
    "    def taste(self):\n",
    "        print(\"Taste: Sour\") \n",
    "class Mango(Fruit): \n",
    "    def name(self):\n",
    "        print(\"Name: Mango\")\n",
    "    def type(self): \n",
    "        print(\"Type: Fruit\") \n",
    "    def color(self):\n",
    "        print(\"Color: Yellow\") \n",
    "    def taste(self):\n",
    "        print(\"Taste: Yummy\") \n",
    "f = Apple() \n",
    "f.name()\n",
    "f.type() \n",
    "f.color() \n",
    "f.taste() \n",
    "f1 = Mango() \n",
    "f1.name()\n",
    "f1.type() \n",
    "f1.color() \n",
    "f1.taste() "
   ]
  },
  {
   "cell_type": "code",
   "execution_count": 9,
   "metadata": {},
   "outputs": [
    {
     "name": "stdout",
     "output_type": "stream",
     "text": [
      "Vehicle: Car\n",
      "Model: 2019\n",
      "Speed: Maximum 250km/h\n",
      "Vehicle: Bike\n",
      "Model: 2020\n",
      "Speed: Maximum 120km/h\n"
     ]
    }
   ],
   "source": [
    "from abc import ABC, abstractmethod \n",
    "class Vehicle(ABC): \n",
    "    def name(self):\n",
    "        pass\n",
    "    def model(self): \n",
    "        pass \n",
    "    def speed(self): \n",
    "        pass \n",
    "class Car(Vehicle): \n",
    "    def name(self):\n",
    "        print(\"Vehicle: Car\") \n",
    "    def model(self): \n",
    "        print(\"Model: 2019\") \n",
    "    def speed(self): \n",
    "        print(\"Speed: Maximum 250km/h\") \n",
    "class MotorBike:\n",
    "    def name(self):\n",
    "        print(\"Vehicle: Bike\")\n",
    "    def model(self): \n",
    "        print(\"Model: 2020\") \n",
    "    def speed(self): \n",
    "        print(\"Speed: Maximum 120km/h\") \n",
    "v = Car() \n",
    "v.name() \n",
    "v.model()\n",
    "v.speed()\n",
    "v1 = MotorBike() \n",
    "v1.name() \n",
    "v1.model() \n",
    "v1.speed()"
   ]
  },
  {
   "cell_type": "code",
   "execution_count": 6,
   "metadata": {},
   "outputs": [
    {
     "name": "stdout",
     "output_type": "stream",
     "text": [
      "Distance = (56,98)\n"
     ]
    }
   ],
   "source": [
    "class Distance: \n",
    "    def __init__(self,f,i): \n",
    "        self.foot = f \n",
    "        self.inches = i         \n",
    "    def __add__(self,other): \n",
    "        f = self.foot + other.foot \n",
    "        i = self.inches + other.inches \n",
    "        return Distance(f,i) \n",
    "    def __str__(self): \n",
    "        return \"({},{})\".format(self.foot,self.inches) \n",
    "d1= Distance(12,33) \n",
    "d2= Distance(44,65) \n",
    "print(\"Distance =\", d1 + d2)"
   ]
  },
  {
   "cell_type": "code",
   "execution_count": 7,
   "metadata": {},
   "outputs": [
    {
     "name": "stdout",
     "output_type": "stream",
     "text": [
      "Time is: (3:41:4)\n"
     ]
    }
   ],
   "source": [
    "class Time: \n",
    "    def __init__(self,h,m,s): \n",
    "        self.hour = h \n",
    "        self.minutes = m \n",
    "        self.second = s \n",
    "    def __sub__(self,other): \n",
    "        h = self.hour - other.hour \n",
    "        m = self.minutes - other.minutes \n",
    "        s = self.second - other.second \n",
    "        return Time(h,m,s) \n",
    "    def __str__(self): \n",
    "        return \"({}:{}:{})\".format(self.hour,self.minutes,self.second) \n",
    "time1=Time(5,56,8) \n",
    "time2=Time(2,15,4) \n",
    "print(\"Time is:\",time1-time2)"
   ]
  }
 ],
 "metadata": {
  "kernelspec": {
   "display_name": "Python 3",
   "language": "python",
   "name": "python3"
  },
  "language_info": {
   "codemirror_mode": {
    "name": "ipython",
    "version": 3
   },
   "file_extension": ".py",
   "mimetype": "text/x-python",
   "name": "python",
   "nbconvert_exporter": "python",
   "pygments_lexer": "ipython3",
   "version": "3.7.3"
  }
 },
 "nbformat": 4,
 "nbformat_minor": 2
}
