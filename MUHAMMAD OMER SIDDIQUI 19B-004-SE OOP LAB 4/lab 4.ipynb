{
 "cells": [
  {
   "cell_type": "code",
   "execution_count": 4,
   "metadata": {},
   "outputs": [
    {
     "name": "stdout",
     "output_type": "stream",
     "text": [
      "12\n",
      "computer science software engineering\n",
      "4\n",
      "computer science software engineering\n"
     ]
    }
   ],
   "source": [
    "class CSStudent:\n",
    "    trade='computer science software engineering'\n",
    "    \n",
    "    def __init__(self,roll):\n",
    "        self.roll=roll\n",
    "    \n",
    "ali=CSStudent(12)\n",
    "print(ali.roll)\n",
    "print(ali.trade)\n",
    "omer=CSStudent(4)\n",
    "print(omer.roll)\n",
    "print(omer.trade)"
   ]
  },
  {
   "cell_type": "code",
   "execution_count": 7,
   "metadata": {},
   "outputs": [
    {
     "name": "stdout",
     "output_type": "stream",
     "text": [
      "4\n",
      "bahadurabad\n"
     ]
    }
   ],
   "source": [
    "class CSStudent:\n",
    "    trade1='computer science'\n",
    "    trade2='software engineering'\n",
    "    def __init__(self,roll):\n",
    "        self.roll=roll\n",
    "    def setAddress(self,address):\n",
    "        self.address=address\n",
    "    def getAddress(self):\n",
    "        return self.address\n",
    "omer=CSStudent(4)\n",
    "print(omer.roll)\n",
    "omer.setAddress(\"bahadurabad\")\n",
    "print(omer.getAddress())\n",
    "# ali=CSStudent(12)\n",
    "# print(ali.roll)\n",
    "# print(ali.trade)\n",
    "# print(omer.trade)"
   ]
  },
  {
   "cell_type": "code",
   "execution_count": 14,
   "metadata": {},
   "outputs": [
    {
     "name": "stdout",
     "output_type": "stream",
     "text": [
      "2\n",
      "7\n"
     ]
    }
   ],
   "source": [
    "class MyClass:\n",
    "    __hiddenVariable=0\n",
    "    def add(self,increment):\n",
    "        self.__hiddenVariable+=increment\n",
    "        print(self.__hiddenVariable)\n",
    "myObject=MyClass()\n",
    "myObject.add(2)\n",
    "myObject.add(5)\n",
    "# print(myObject.__hiddenVariable)"
   ]
  },
  {
   "cell_type": "code",
   "execution_count": 15,
   "metadata": {},
   "outputs": [
    {
     "name": "stdout",
     "output_type": "stream",
     "text": [
      "10\n"
     ]
    }
   ],
   "source": [
    "class MyClass:\n",
    "    __hiddenVariable=10\n",
    "myObject=MyClass()\n",
    "print(myObject._MyClass__hiddenVariable)"
   ]
  },
  {
   "cell_type": "code",
   "execution_count": 20,
   "metadata": {},
   "outputs": [
    {
     "name": "stdout",
     "output_type": "stream",
     "text": [
      "assalam u alikum,my name isomer\n",
      " my age is19\n",
      " Nowadays earning:5000its really lovely to be a hacker\n",
      "need to modify the age and salary inside the class\n",
      "assalam u alikum,my name isomer\n",
      " my age is20\n",
      " Nowadays earning:10000its really lovely to be a hacker\n"
     ]
    }
   ],
   "source": [
    "class Person:\n",
    "    def __init__(a,name,age,salary,profession):\n",
    "        a.name=name\n",
    "        a.age=age\n",
    "        a.salary=salary\n",
    "        a.profession=profession\n",
    "    def mydetail(a):\n",
    "        print(\"assalam u alikum,my name is\"+ a.name+\"\\n my age is\"+ str(a.age) +\"\\n Nowadays earning:\"+str(a.salary)+\"its really lovely to be a \"+a.profession)\n",
    "person1=Person(\"omer\",'19','5000','hacker')\n",
    "person1.mydetail()\n",
    "print(\"need to modify the age and salary inside the class\")\n",
    "person1.age=20\n",
    "person1.salary=10000\n",
    "person1.mydetail()"
   ]
  },
  {
   "cell_type": "code",
   "execution_count": 22,
   "metadata": {},
   "outputs": [
    {
     "name": "stdout",
     "output_type": "stream",
     "text": [
      "calling child character\n",
      "calling child method\n",
      "calling parent method\n",
      "parent attribute: 200\n"
     ]
    }
   ],
   "source": [
    "class Parent:\n",
    "    parentAttr=100\n",
    "    def __init__(self):\n",
    "        print(\"calling parent constructor\")\n",
    "    def parentMethod(self):\n",
    "        print(\"calling parent method\")\n",
    "    def setAttr(self,attr):\n",
    "        Parent.parentAttr=attr\n",
    "        \n",
    "    def getAttr(self):\n",
    "        print(\"parent attribute:\",Parent.parentAttr)\n",
    "class Child(Parent):\n",
    "    def __init__(self):\n",
    "        print(\"calling child character\")\n",
    "    def childMethod(self):\n",
    "        print(\"calling child method\")\n",
    "        \n",
    "c1=Child()\n",
    "c1.childMethod()\n",
    "c1.parentMethod()\n",
    "c1.setAttr(200)\n",
    "c1.getAttr()"
   ]
  },
  {
   "cell_type": "code",
   "execution_count": null,
   "metadata": {},
   "outputs": [],
   "source": [
    "#task 4\n",
    "class Cycle:\n",
    "    def __init__(self,frame,saddle_area,front_set,wheel,back_set):\n",
    "        self.frame=frame\n",
    "        self.saddle_area=saddle_area\n",
    "        self.front_end=front_end\n",
    "        self.wheel=wheel\n",
    "        self.back_set=back_set\n",
    "    "
   ]
  }
 ],
 "metadata": {
  "kernelspec": {
   "display_name": "Python 3",
   "language": "python",
   "name": "python3"
  },
  "language_info": {
   "codemirror_mode": {
    "name": "ipython",
    "version": 3
   },
   "file_extension": ".py",
   "mimetype": "text/x-python",
   "name": "python",
   "nbconvert_exporter": "python",
   "pygments_lexer": "ipython3",
   "version": "3.7.3"
  }
 },
 "nbformat": 4,
 "nbformat_minor": 2
}
